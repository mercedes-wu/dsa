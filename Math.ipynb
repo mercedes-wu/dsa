{
 "cells": [
  {
   "cell_type": "markdown",
   "id": "712cc97b-9429-48ab-af6f-b6234d3172fe",
   "metadata": {
    "tags": []
   },
   "source": [
    "> 50. Pow(x, n)"
   ]
  },
  {
   "cell_type": "code",
   "execution_count": null,
   "id": "d4d0629b-1ee5-4180-b39a-68d5db293bc1",
   "metadata": {
    "tags": []
   },
   "outputs": [],
   "source": [
    "class Solution:\n",
    "    def myPow(self, x: float, n: int) -> float:\n",
    "        # use a for loop over n and each time multiply x? --> brute force\n",
    "        # use the fact that x^(2n) = x^n * x^n with recursion\n",
    "        if not n:\n",
    "            return 1\n",
    "        \n",
    "        if n < 0:\n",
    "            return float(1 / self.myPow(x, -n))\n",
    "        \n",
    "        if n % 2 == 0:\n",
    "            return self.myPow(x * x, n//2)\n",
    "        \n",
    "        else:\n",
    "            return self.myPow(x * x, n//2) * x"
   ]
  }
 ],
 "metadata": {
  "kernelspec": {
   "display_name": "Python 3",
   "language": "python",
   "name": "python3"
  },
  "language_info": {
   "codemirror_mode": {
    "name": "ipython",
    "version": 3
   },
   "file_extension": ".py",
   "mimetype": "text/x-python",
   "name": "python",
   "nbconvert_exporter": "python",
   "pygments_lexer": "ipython3",
   "version": "3.9.2"
  }
 },
 "nbformat": 4,
 "nbformat_minor": 5
}
