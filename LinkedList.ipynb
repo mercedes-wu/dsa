{
 "cells": [
  {
   "cell_type": "markdown",
   "id": "1f757392-328d-4d9d-b62b-9d622c2ccefb",
   "metadata": {},
   "source": [
    "> 2. Add Two Numbers"
   ]
  },
  {
   "cell_type": "code",
   "execution_count": null,
   "id": "b90525a3-8707-4c0f-8b0a-41353d7872ca",
   "metadata": {
    "jupyter": {
     "source_hidden": true
    },
    "tags": []
   },
   "outputs": [],
   "source": [
    "# Definition for singly-linked list.\n",
    "# class ListNode:\n",
    "#     def __init__(self, val=0, next=None):\n",
    "#         self.val = val\n",
    "#         self.next = next\n",
    "class Solution:\n",
    "    def addTwoNumbers(self, l1: Optional[ListNode], l2: Optional[ListNode]) -> Optional[ListNode]:\n",
    "        dummyNode = ListNode(0, None)\n",
    "        curr = dummyNode\n",
    "        carryOver = 0\n",
    "        \n",
    "        # edge case if the last digits add up to be greater than 10 \n",
    "        # which is why we need to make sure carry is not 0\n",
    "        while l1 or l2 or carryOver:\n",
    "            v1 = l1.val if l1 else 0\n",
    "            v2 = l2.val if l2 else 0\n",
    "            sumVals = v1 + v2 + carryOver\n",
    "            # use modulo and floor division operators to get the val of the next linked list\n",
    "            # as well as the carryOver\n",
    "            val = sumVals % 10\n",
    "            carryOver = sumVals // 10\n",
    "            # set the values of the list Node\n",
    "            curr.next = ListNode(val)\n",
    "            \n",
    "            # update pointers\n",
    "            curr = curr.next\n",
    "            # we need to check if the l1 and l2 nodes are not null\n",
    "            l1 = l1.next if l1 else None\n",
    "            l2 = l2.next if l2 else None\n",
    "            \n",
    "            \n",
    "        return dummyNode.next"
   ]
  },
  {
   "cell_type": "code",
   "execution_count": null,
   "id": "262957c6-daa2-4c63-8fc0-77523a67874d",
   "metadata": {},
   "outputs": [],
   "source": []
  }
 ],
 "metadata": {
  "kernelspec": {
   "display_name": "Python 3",
   "language": "python",
   "name": "python3"
  },
  "language_info": {
   "codemirror_mode": {
    "name": "ipython",
    "version": 3
   },
   "file_extension": ".py",
   "mimetype": "text/x-python",
   "name": "python",
   "nbconvert_exporter": "python",
   "pygments_lexer": "ipython3",
   "version": "3.9.2"
  }
 },
 "nbformat": 4,
 "nbformat_minor": 5
}
