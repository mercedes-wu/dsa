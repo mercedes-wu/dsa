{
 "cells": [
  {
   "cell_type": "markdown",
   "id": "6dbb59f9-8eca-4cfd-9b10-2ade26a2a805",
   "metadata": {},
   "source": [
    "___\n",
    "# BFS\n",
    "- iteratively\n",
    "___"
   ]
  },
  {
   "cell_type": "markdown",
   "id": "08f87679-33e8-419f-b25d-fbbd0617af95",
   "metadata": {
    "tags": []
   },
   "source": [
    "> 102. Binary Tree Level Order Traversal"
   ]
  },
  {
   "cell_type": "code",
   "execution_count": null,
   "id": "66c16d2f-f38c-4231-97e5-6f887276edb1",
   "metadata": {
    "jupyter": {
     "source_hidden": true
    },
    "tags": []
   },
   "outputs": [],
   "source": [
    "class TreeNode:\n",
    "    def __init__(self, val=0, left=None, right=None):\n",
    "        self.val = val\n",
    "        self.left = left\n",
    "        self.right = right\n",
    "        \n",
    "class Solution:\n",
    "    def levelOrder(self, root: Optional[TreeNode]) -> List[List[int]]:\n",
    "\n",
    "        if not root:\n",
    "            return []\n",
    "\n",
    "        output = []\n",
    "        currentLevel = [root]\n",
    "        \n",
    "        while currentLevel:\n",
    "            levelValues = []\n",
    "            nextLevel = []\n",
    "            for n in currentLevel:\n",
    "                levelValues.append(n.val)\n",
    "                if n.left:\n",
    "                    nextLevel.append(n.left)\n",
    "                if n.right:\n",
    "                    nextLevel.append(n.right)\n",
    "\n",
    "            output.append(levelValues)\n",
    "            currentLevel = nextLevel\n",
    "            \n",
    "        return output\n",
    "        \n",
    "        "
   ]
  },
  {
   "cell_type": "markdown",
   "id": "253e195c-1cb1-43b7-b972-850666a5d1cb",
   "metadata": {},
   "source": [
    "> 113. Path Sum II"
   ]
  },
  {
   "cell_type": "code",
   "execution_count": null,
   "id": "60d6a296-459e-4f5e-9bb2-5f2e37b24f5a",
   "metadata": {
    "jupyter": {
     "source_hidden": true
    },
    "tags": []
   },
   "outputs": [],
   "source": [
    "import collections\n",
    "# Definition for a binary tree node.\n",
    "class TreeNode:\n",
    "    def __init__(self, val=0, left=None, right=None):\n",
    "        self.val = val\n",
    "        self.left = left\n",
    "        self.right = right\n",
    "        \n",
    "class Solution:\n",
    "    def pathSum(self, root: Optional[TreeNode], targetSum: int) -> List[List[int]]:\n",
    "        # edge case\n",
    "        if not root:\n",
    "            return []\n",
    "        \n",
    "        ans = []\n",
    "        queue = collections.deque([(root, targetSum, [])])\n",
    "        \n",
    "        while queue:\n",
    "            node, currSum, temp = queue.popleft()\n",
    "            if not node.left and not node.right and node.val == currSum:\n",
    "                ans.append(temp + [node.val])\n",
    "            if node.left:\n",
    "                queue.append((node.left, currSum-node.val, temp + [node.val]))\n",
    "            if node.right:\n",
    "                queue.append((node.right, currSum - node.val, temp + [node.val]))\n",
    "                \n",
    "        return ans       "
   ]
  },
  {
   "cell_type": "markdown",
   "id": "fedbcda9-d0e5-4ece-aa5e-2c9f95db65a6",
   "metadata": {},
   "source": [
    "> 226. Invert Binary Tree"
   ]
  },
  {
   "cell_type": "code",
   "execution_count": null,
   "id": "b7bbf2f1-cc2f-4222-86eb-cbf20e63d674",
   "metadata": {
    "jupyter": {
     "source_hidden": true
    },
    "tags": []
   },
   "outputs": [],
   "source": [
    "# Definition for a binary tree node.\n",
    "# class TreeNode:\n",
    "#     def __init__(self, val=0, left=None, right=None):\n",
    "#         self.val = val\n",
    "#         self.left = left\n",
    "#         self.right = right\n",
    "class Solution:\n",
    "    def invertTree(self, root: Optional[TreeNode]) -> Optional[TreeNode]:\n",
    "        if not root:\n",
    "            return root\n",
    "        \n",
    "        iterNode = [root]\n",
    "        while iterNode:\n",
    "            node = iterNode.pop()\n",
    "            if node.left and node.right:\n",
    "                iterNode.extend([node.left, node.right])\n",
    "                node.left, node.right = node.right, node.left\n",
    "            elif node.left:\n",
    "                iterNode.extend([node.left])\n",
    "                node.left, node.right = None, node.left\n",
    "            elif node.right:\n",
    "                iterNode.extend([node.right])\n",
    "                node.right, node.left = None, node.right\n",
    "            else:\n",
    "                continue\n",
    "                \n",
    "        return root"
   ]
  },
  {
   "cell_type": "markdown",
   "id": "595fb2c5-28c4-47b4-9e92-fe683d1db74a",
   "metadata": {},
   "source": [
    "> 199. Binary Tree Right Side View"
   ]
  },
  {
   "cell_type": "code",
   "execution_count": null,
   "id": "b4f532b4-e413-4489-8dd0-de1c4316f31d",
   "metadata": {
    "jupyter": {
     "source_hidden": true
    },
    "tags": []
   },
   "outputs": [],
   "source": [
    "# Definition for a binary tree node.\n",
    "# class TreeNode:\n",
    "#     def __init__(self, val=0, left=None, right=None):\n",
    "#         self.val = val\n",
    "#         self.left = left\n",
    "#         self.right = right\n",
    "class Solution:\n",
    "    def rightSideView(self, root: Optional[TreeNode]) -> List[int]:\n",
    "        if not root:\n",
    "            return []\n",
    "        \n",
    "        rightViewArr = []\n",
    "        stack = collections.deque([root])\n",
    "        \n",
    "        while stack:\n",
    "            # the trick to doing a breadth first search is to iterate over the length of the depth\n",
    "            levelNodeLen = len(stack)\n",
    "            rightVal = None\n",
    "            \n",
    "            for i in range(levelNodeLen):\n",
    "                node = stack.popleft()\n",
    "                # adding left nodes first since we want the right most value\n",
    "                if node.left:\n",
    "                    stack.append(node.left)\n",
    "                if node.right:\n",
    "                    stack.append(node.right)    \n",
    "                # we are resassigning the rightVal variable because we want it to hodl the right most val\n",
    "                rightVal = node.val\n",
    "                    \n",
    "            rightViewArr.append(rightVal)\n",
    "            \n",
    "        return rightViewArr"
   ]
  },
  {
   "cell_type": "markdown",
   "id": "dd19258f-1ab3-45b2-8907-702a9808ef3e",
   "metadata": {},
   "source": [
    "> 257. Binary Tree Paths"
   ]
  },
  {
   "cell_type": "code",
   "execution_count": null,
   "id": "d2ef345d-3d30-42f7-854d-c023554ef384",
   "metadata": {
    "jupyter": {
     "source_hidden": true
    },
    "tags": []
   },
   "outputs": [],
   "source": [
    "# Definition for a binary tree node.\n",
    "# class TreeNode:\n",
    "#     def __init__(self, val=0, left=None, right=None):\n",
    "#         self.val = val\n",
    "#         self.left = left\n",
    "#         self.right = right\n",
    "class Solution:\n",
    "    def binaryTreePaths(self, root: Optional[TreeNode]) -> List[str]:\n",
    "        rootToLeafPaths = []\n",
    "        \n",
    "        tempStr = ''\n",
    "        \n",
    "        stack = collections.deque([(root, tempStr)])\n",
    "        \n",
    "        while stack:\n",
    "            node, tempStr = stack.popleft()\n",
    "            \n",
    "            if not node.left and not node.right:\n",
    "                tempStr = tempStr + str(node.val)\n",
    "                rootToLeafPaths.append(tempStr)\n",
    "            \n",
    "            else:\n",
    "                tempStr = tempStr + str(node.val) + '->'\n",
    "                if node.left:\n",
    "                    stack.append((node.left, tempStr))\n",
    "                if node.right:\n",
    "                    stack.append((node.right, tempStr))\n",
    "                    \n",
    "        return rootToLeafPaths\n",
    "                    \n",
    "                    \n",
    "\n"
   ]
  },
  {
   "cell_type": "markdown",
   "id": "2118ba02-edea-4c7a-999c-032c7b4d5ed8",
   "metadata": {},
   "source": [
    "> 314. Binary Tree Vertical Order Traversal"
   ]
  },
  {
   "cell_type": "code",
   "execution_count": null,
   "id": "f2b75102-5350-4b26-b3e0-b848142324c1",
   "metadata": {
    "jupyter": {
     "source_hidden": true
    },
    "tags": []
   },
   "outputs": [],
   "source": [
    "# Definition for a binary tree node.\n",
    "# class TreeNode:\n",
    "#     def __init__(self, val=0, left=None, right=None):\n",
    "#         self.val = val\n",
    "#         self.left = left\n",
    "#         self.right = right\n",
    "class Solution:\n",
    "    def verticalOrder(self, root: Optional[TreeNode]) -> List[List[int]]:\n",
    "        # bfs from root preserves row order\n",
    "        # when we reach a node, save it to a hashmap with the key being the position\n",
    "        # print children from left to right based on min and max columns\n",
    "        if not root:\n",
    "            return []\n",
    "        \n",
    "        self.minColumn = 0\n",
    "        self.maxColumn = 0\n",
    "        \n",
    "        self.positionDict = collections.defaultdict(list)\n",
    "        \n",
    "        stack = collections.deque([(root, 0)])\n",
    "        while stack:\n",
    "            node, column = stack.popleft()\n",
    "            self.positionDict[column].append(node.val)\n",
    "            self.minColumn = min(self.minColumn, column)\n",
    "            self.maxColumn = max(self.maxColumn, column)\n",
    "            \n",
    "            if node.left:\n",
    "                stack.append((node.left, column - 1))\n",
    "            if node.right:\n",
    "                stack.append((node.right, column + 1))\n",
    "            \n",
    "        ans = []\n",
    "        for col in range(self.minColumn, self.maxColumn+1):\n",
    "            ans.append(self.positionDict[col])\n",
    "            \n",
    "        return ans"
   ]
  },
  {
   "cell_type": "markdown",
   "id": "e73aeee3-adb6-4f28-945e-08324e94228a",
   "metadata": {},
   "source": [
    "> 987. Vertical Order Traversal of a Binary Tree"
   ]
  },
  {
   "cell_type": "code",
   "execution_count": null,
   "id": "fea1ca35-90f4-4f83-9a14-297c9ede62d7",
   "metadata": {
    "jupyter": {
     "source_hidden": true
    },
    "tags": []
   },
   "outputs": [],
   "source": [
    "# Definition for a binary tree node.\n",
    "# class TreeNode:\n",
    "#     def __init__(self, val=0, left=None, right=None):\n",
    "#         self.val = val\n",
    "#         self.left = left\n",
    "#         self.right = right\n",
    "class Solution:\n",
    "    def verticalTraversal(self, root: Optional[TreeNode]) -> List[List[int]]:\n",
    "        # bfs will allow us to maintain the row heiarchy without any extra sorting\n",
    "        # use pointers to know the index of the row and column\n",
    "        \n",
    "        # edge case for empty tree\n",
    "        if not root:\n",
    "            return []\n",
    "        \n",
    "        # creating indices to record row and column position\n",
    "        minCol = 0\n",
    "        maxCol = 0\n",
    "        \n",
    "        # answer will be a list of nodes for each column sorted by row order first, and then value if column and row value are the same\n",
    "        ans = []\n",
    "        \n",
    "        # create a dictionary with the key being the column that we can append node values to\n",
    "        colDict = collections.defaultdict(list)\n",
    "          \n",
    "        # create a stack to use bfs iteratively\n",
    "        stack = collections.deque()\n",
    "        stack.append((root, 0, 0))\n",
    "        \n",
    "        while stack:\n",
    "            # popping left for BFS\n",
    "            node, row, col = stack.popleft()\n",
    "            \n",
    "            if node:\n",
    "                # record min and max columns to iterate over later (eliminates need for sorting the columns)\n",
    "                minCol = min(minCol, col)\n",
    "                maxCol = max(maxCol, col)\n",
    "                \n",
    "                # we need to keep track of rows in case of a collision, where we would need to sort by ascending order\n",
    "                # append the node row and value to the corresponding column in the hashmap\n",
    "                colDict[col].append((row, node.val))\n",
    "                \n",
    "                # append left and right nodes to the stack\n",
    "                stack.append((node.left, row + 1, col - 1))\n",
    "                stack.append((node.right, row + 1, col + 1))\n",
    "                \n",
    "        # iterate from the min column to the max to append to the ans\n",
    "        for c in range(minCol, maxCol + 1):\n",
    "            # sort first by row then by value and append to the ans\n",
    "            ans.append([val for row, val in sorted(colDict[c])])\n",
    "        \n",
    "        return ans\n",
    "                "
   ]
  },
  {
   "cell_type": "markdown",
   "id": "0f768af9-bd28-4484-82de-cea016cf6336",
   "metadata": {},
   "source": [
    "___\n",
    "# DFS\n",
    "- iteratively\n",
    "___"
   ]
  },
  {
   "cell_type": "markdown",
   "id": "499d5ffb-8236-47bd-9449-48cb8bdd92ea",
   "metadata": {
    "tags": []
   },
   "source": [
    "> 543. Diameter of Binary Tree"
   ]
  },
  {
   "cell_type": "code",
   "execution_count": null,
   "id": "aef4091b-54c1-435f-a266-14e3607456e5",
   "metadata": {
    "jupyter": {
     "source_hidden": true
    },
    "tags": []
   },
   "outputs": [],
   "source": [
    "# DFS iterative\n",
    "# Definition for a binary tree node.\n",
    "class TreeNode:\n",
    "    def __init__(self, val=0, left=None, right=None):\n",
    "        self.val = val\n",
    "        self.left = left\n",
    "        self.right = right\n",
    "        \n",
    "class Solution:\n",
    "    def diameterOfBinaryTree(self, root: Optional[TreeNode]) -> int:\n",
    "        # do all the nodes have consecutive values?\n",
    "        \n",
    "        # # edge case\n",
    "        # if not root:\n",
    "        #     return -1\n",
    "        \n",
    "        treeDiam = 0\n",
    "        \n",
    "        # hashmap to record depth\n",
    "        depth = {None: -1}\n",
    "        stack = [(root, 0)]\n",
    "        \n",
    "        while stack:\n",
    "            popNode, visited = stack.pop()\n",
    "            \n",
    "            if not popNode:\n",
    "                continue\n",
    "                \n",
    "            if visited == 0:\n",
    "                stack.extend([(popNode, 1), (popNode.left, 0), (popNode.right, 0)])\n",
    "            \n",
    "            else: \n",
    "                leftDepth = depth[popNode.left] + 1\n",
    "                rightDepth = depth[popNode.right] + 1\n",
    "                depth[popNode] = max(leftDepth, rightDepth)\n",
    "                treeDiam = max(treeDiam, leftDepth + rightDepth)\n",
    "                \n",
    "        \n",
    "        return treeDiam\n",
    "    \n",
    "    # testcase\n",
    "    # i1: treeDiam = 0, stack = [(1,1), (2,0), (3,0)]\n",
    "    # i2: treeDiam = 0, stack = [(1,1), (2,0), (3,1)]\n",
    "    # i3: treeDiam = 0, stack = [(1,1), (2,0)], depth[3] = 0\n",
    "    # i4: treeDiam = 0, stack = [(1,1), (2,1), (4,0), (5,0)]\n",
    "    # i5: treeDiam = 0, stack = [(1,1), (2,1), (4,0), (5,1)]\n",
    "    # i6: treeDiam = 0, stack = [(1,1), (2,1), (4,0), (5,1)], depth[5] = 0\n",
    "    # i8: treeDiam = 0, stack = [(1,1), (2,1), (4,1)], depth[4] = 0\n",
    "    # i10: treeDiam = 0, stack = [(1,1), (2,1)], depth[2] = 1\n",
    "    # i11: treeDiam = 0, stack = [(1,1)], depth[2] = 3\n",
    "    "
   ]
  },
  {
   "cell_type": "markdown",
   "id": "739a3921-3cdd-4c66-b89c-6ceab474e7d0",
   "metadata": {},
   "source": [
    "> 113. Path Sum II"
   ]
  },
  {
   "cell_type": "code",
   "execution_count": null,
   "id": "0f84d441-b8e4-48f3-9b77-9a5ed1a34e84",
   "metadata": {
    "jupyter": {
     "source_hidden": true
    },
    "tags": []
   },
   "outputs": [],
   "source": [
    "import collections\n",
    "# Definition for a binary tree node.\n",
    "class TreeNode:\n",
    "    def __init__(self, val=0, left=None, right=None):\n",
    "        self.val = val\n",
    "        self.left = left\n",
    "        self.right = right\n",
    "        \n",
    "class Solution:\n",
    "    def pathSum(self, root: Optional[TreeNode], targetSum: int) -> List[List[int]]:\n",
    "        # edge case\n",
    "        if not root:\n",
    "            return []\n",
    "        \n",
    "        ans = []\n",
    "        queue = collections.deque([(root, targetSum, [])])\n",
    "        \n",
    "        while queue:\n",
    "            node, currSum, temp = queue.pop()\n",
    "            if not node.left and not node.right and node.val == currSum:\n",
    "                ans.append(temp + [node.val])\n",
    "            if node.left:\n",
    "                queue.append((node.left, currSum-node.val, temp + [node.val]))\n",
    "            if node.right:\n",
    "                queue.append((node.right, currSum - node.val, temp + [node.val]))\n",
    "                \n",
    "        return ans"
   ]
  },
  {
   "cell_type": "markdown",
   "id": "99b06096-efe1-4198-8024-9623583056f3",
   "metadata": {},
   "source": [
    "> 230. Kth Smallest Element in a BST"
   ]
  },
  {
   "cell_type": "code",
   "execution_count": null,
   "id": "2c78bc3c-9d63-4045-945e-eee1df59ebe9",
   "metadata": {
    "jupyter": {
     "source_hidden": true
    },
    "tags": []
   },
   "outputs": [],
   "source": [
    "# Definition for a binary tree node.\n",
    "# class TreeNode:\n",
    "#     def __init__(self, val=0, left=None, right=None):\n",
    "#         self.val = val\n",
    "#         self.left = left\n",
    "#         self.right = right\n",
    "class Solution:\n",
    "    def kthSmallest(self, root: Optional[TreeNode], k: int) -> int:\n",
    "        # edge case\n",
    "        if not root:\n",
    "            return 0\n",
    "        \n",
    "        counter = 0\n",
    "        stack = collections.deque([root])\n",
    "        \n",
    "        while stack:\n",
    "            # we dont want to remove the nodes until we have gotten to the leftmost node\n",
    "            node = stack[-1]\n",
    "\n",
    "            if node.left:\n",
    "                stack.extend([node.left])\n",
    "                # need to make sure the node's left child is not there anymore to prevent an infinite loop\n",
    "                node.left = None\n",
    "                continue\n",
    "            \n",
    "            # remove nodes once we get to the left most node with no children\n",
    "            stack.pop()\n",
    "            counter += 1\n",
    "            # breaks out of the loop prematurely if kth element is found\n",
    "            if counter == k:\n",
    "                return node.val\n",
    "            \n",
    "            if node.right:\n",
    "                stack.extend([node.right])\n",
    "                # need to make sure the node's left child is not there anymore to prevent an infinite loop\n",
    "                node.right = None\n",
    "                continue\n",
    "            \n",
    "        # this shouldnt happen but having a return just in case\n",
    "        return 0\n"
   ]
  },
  {
   "cell_type": "markdown",
   "id": "6f5eba2b-1a4d-4d48-85cd-6a8e8a3003a5",
   "metadata": {},
   "source": [
    "> 173. Binary Search Tree Iterator"
   ]
  },
  {
   "cell_type": "code",
   "execution_count": null,
   "id": "baa7d94e-2ac3-4bf1-b7e3-273172cfa510",
   "metadata": {
    "jupyter": {
     "source_hidden": true
    },
    "tags": []
   },
   "outputs": [],
   "source": [
    "# Definition for a binary tree node.\n",
    "# class TreeNode:\n",
    "#     def __init__(self, val=0, left=None, right=None):\n",
    "#         self.val = val\n",
    "#         self.left = left\n",
    "#         self.right = right\n",
    "class BSTIterator:\n",
    "\n",
    "    def __init__(self, root: Optional[TreeNode]):\n",
    "        self.stack = collections.deque([root])\n",
    "        self.pointer = -inf\n",
    "        \n",
    "    def next(self) -> int:\n",
    "        while self.stack:\n",
    "            # gets the left most element of the stack so far\n",
    "            node = self.stack[-1]\n",
    "            \n",
    "            if node.left:\n",
    "                # append left nodes first to get to the left most element\n",
    "                self.stack.append(node.left)\n",
    "                # important, dont forget to set the children node to None to prevent an infinite while loop\n",
    "                node.left = None\n",
    "                continue\n",
    "            \n",
    "            # return the left most element in the stack so far\n",
    "            self.pointer = node.val\n",
    "            # print(self.pointer)\n",
    "            self.stack.pop()\n",
    "            \n",
    "            if node.right:\n",
    "                self.stack.append(node.right)\n",
    "                node.right = None\n",
    "                # need to add a second return statement in case the right condition is met\n",
    "                return self.pointer\n",
    "                continue\n",
    "            \n",
    "            # returns the value of the next left most element\n",
    "            return self.pointer\n",
    "\n",
    "    def hasNext(self) -> bool:\n",
    "        if len(self.stack) > 0:\n",
    "            return True\n",
    "        else:\n",
    "            return False\n",
    "\n",
    "\n",
    "# Your BSTIterator object will be instantiated and called as such:\n",
    "# obj = BSTIterator(root)\n",
    "# param_1 = obj.next()\n",
    "# param_2 = obj.hasNext()"
   ]
  },
  {
   "cell_type": "markdown",
   "id": "715967e7-aa61-40b4-9b50-c8d2db80f001",
   "metadata": {},
   "source": [
    "> 938. Range Sum of BST"
   ]
  },
  {
   "cell_type": "code",
   "execution_count": null,
   "id": "2f2c1e55-d803-4fce-9571-5edbfe994a69",
   "metadata": {
    "jupyter": {
     "source_hidden": true
    },
    "tags": []
   },
   "outputs": [],
   "source": [
    "# Definition for a binary tree node.\n",
    "# class TreeNode:\n",
    "#     def __init__(self, val=0, left=None, right=None):\n",
    "#         self.val = val\n",
    "#         self.left = left\n",
    "#         self.right = right\n",
    "class Solution:\n",
    "    def rangeSumBST(self, root: Optional[TreeNode], low: int, high: int) -> int:\n",
    "        # edge case\n",
    "        if not root:\n",
    "            return \n",
    "        \n",
    "        # return sumVals\n",
    "        sumVals = 0\n",
    "        \n",
    "        # use a stack to do dfs\n",
    "        stack = collections.deque([root])\n",
    "        while stack:\n",
    "            node = stack.pop()\n",
    "            # check if node is valid\n",
    "            if not node:\n",
    "                continue\n",
    "            # if the node's value is between the high and low \n",
    "            if low <= node.val <= high:\n",
    "                sumVals += node.val\n",
    "            # if the node value is higher than the low, we append the node's left child\n",
    "            # since we need to find lower values \n",
    "            # (note this can return None nodes hence the earlier edge case)\n",
    "            if low <= node.val:\n",
    "                stack.append(node.left)\n",
    "            # if the node value is lower than the high, we append the node's right child\n",
    "            # to find higher values of the node\n",
    "            if node.val <= high:\n",
    "                stack.append(node.right)\n",
    "            \n",
    "        return sumVals"
   ]
  },
  {
   "cell_type": "markdown",
   "id": "a2ca390d-b0ad-4769-a454-65e93abeef66",
   "metadata": {},
   "source": [
    "> 339. Nested List Weight Sum"
   ]
  },
  {
   "cell_type": "code",
   "execution_count": null,
   "id": "dc85ebaf-f494-465c-8610-71903b57977d",
   "metadata": {
    "jupyter": {
     "source_hidden": true
    },
    "tags": []
   },
   "outputs": [],
   "source": [
    "# \"\"\"\n",
    "# This is the interface that allows for creating nested lists.\n",
    "# You should not implement it, or speculate about its implementation\n",
    "# \"\"\"\n",
    "#class NestedInteger:\n",
    "#    def __init__(self, value=None):\n",
    "#        \"\"\"\n",
    "#        If value is not specified, initializes an empty list.\n",
    "#        Otherwise initializes a single integer equal to value.\n",
    "#        \"\"\"\n",
    "#\n",
    "#    def isInteger(self):\n",
    "#        \"\"\"\n",
    "#        @return True if this NestedInteger holds a single integer, rather than a nested list.\n",
    "#        :rtype bool\n",
    "#        \"\"\"\n",
    "#\n",
    "#    def add(self, elem):\n",
    "#        \"\"\"\n",
    "#        Set this NestedInteger to hold a nested list and adds a nested integer elem to it.\n",
    "#        :rtype void\n",
    "#        \"\"\"\n",
    "#\n",
    "#    def setInteger(self, value):\n",
    "#        \"\"\"\n",
    "#        Set this NestedInteger to hold a single integer equal to value.\n",
    "#        :rtype void\n",
    "#        \"\"\"\n",
    "#\n",
    "#    def getInteger(self):\n",
    "#        \"\"\"\n",
    "#        @return the single integer that this NestedInteger holds, if it holds a single integer\n",
    "#        Return None if this NestedInteger holds a nested list\n",
    "#        :rtype int\n",
    "#        \"\"\"\n",
    "#\n",
    "#    def getList(self):\n",
    "#        \"\"\"\n",
    "#        @return the nested list that this NestedInteger holds, if it holds a nested list\n",
    "#        Return None if this NestedInteger holds a single integer\n",
    "#        :rtype List[NestedInteger]\n",
    "#        \"\"\"\n",
    "\n",
    "class Solution:\n",
    "    def depthSum(self, nestedList: List[NestedInteger]) -> int:\n",
    "        # print(nestedList)\n",
    "        # first instinct is recursion\n",
    "        # max depth is 50, should be within the stack overflow limits but to be safe we can use a stack\n",
    "        totalSum = 0\n",
    "        stack = collections.deque([[nestedList, 1]])\n",
    "        while stack:\n",
    "            popNestedList, level = stack.pop()\n",
    "            for nList in popNestedList:\n",
    "                if nList.isInteger():\n",
    "                    totalSum = totalSum + nList.getInteger() * level\n",
    "                else:\n",
    "                    stack.append([nList.getList(), level + 1])\n",
    "                \n",
    "        return totalSum\n",
    "\n",
    "    "
   ]
  },
  {
   "cell_type": "markdown",
   "id": "afb09fba-fbce-4936-9037-d18ffb5ba34f",
   "metadata": {},
   "source": [
    "___\n",
    "# DFS\n",
    "- recursively\n",
    "___"
   ]
  },
  {
   "cell_type": "markdown",
   "id": "e381aad6-643b-4d0e-8ded-c730e014fc28",
   "metadata": {
    "tags": []
   },
   "source": [
    "> 543. Diameter of Binary Tree"
   ]
  },
  {
   "cell_type": "code",
   "execution_count": null,
   "id": "57e40647-0853-4934-89e2-9d7409384515",
   "metadata": {
    "jupyter": {
     "source_hidden": true
    },
    "tags": []
   },
   "outputs": [],
   "source": [
    "# Definition for a binary tree node.\n",
    "class TreeNode:\n",
    "    def __init__(self, val=0, left=None, right=None):\n",
    "        self.val = val\n",
    "        self.left = left\n",
    "        self.right = right\n",
    "        \n",
    "class Solution:\n",
    "    def diameterOfBinaryTree(self, root: Optional[TreeNode]) -> int:\n",
    "        self.treeDiam = 0\n",
    "        \n",
    "        def dfs(node):\n",
    "            if not node:\n",
    "                return -1\n",
    "            leftHeight = 1 + dfs(node.left)\n",
    "            rightHeight = 1 + dfs(node.right)\n",
    "            height = max(leftHeight, rightHeight)\n",
    "            self.treeDiam = max(self.treeDiam, leftHeight+rightHeight)\n",
    "            \n",
    "            return height\n",
    "        \n",
    "        dfs(root)\n",
    "        \n",
    "        return self.treeDiam\n",
    "    "
   ]
  },
  {
   "cell_type": "markdown",
   "id": "cb332812-130f-4052-9c01-82de941a6aaa",
   "metadata": {
    "tags": []
   },
   "source": [
    "> 113. Path Sum II"
   ]
  },
  {
   "cell_type": "code",
   "execution_count": null,
   "id": "b4fd51b7-2108-4b80-a23d-8ab2328b1247",
   "metadata": {
    "jupyter": {
     "source_hidden": true
    },
    "tags": []
   },
   "outputs": [],
   "source": [
    "# Definition for a binary tree node.\n",
    "class TreeNode:\n",
    "    def __init__(self, val=0, left=None, right=None):\n",
    "        self.val = val\n",
    "        self.left = left\n",
    "        self.right = right\n",
    "        \n",
    "class Solution:\n",
    "    def pathSum(self, root: Optional[TreeNode], targetSum: int) -> List[List[int]]:\n",
    "        # edge case\n",
    "        if not root:\n",
    "            return []\n",
    "        \n",
    "        ans = []\n",
    "        self.dfs(root, targetSum, [], ans)\n",
    "        \n",
    "        return ans\n",
    "    \n",
    "    # bottom up recursion, checks if the node value is equal to the node value above it \n",
    "    def dfs(self, node, currSum, temp, ans):\n",
    "        if not node:\n",
    "            return\n",
    "        \n",
    "        if not node.left and not node.right and node.val == currSum:\n",
    "            ans.append(temp + [node.val])\n",
    "            return\n",
    "            \n",
    "        self.dfs(node.left, currSum - node.val, temp + [node.val], ans)\n",
    "        self.dfs(node.right, currSum - node.val, temp + [node.val], ans)"
   ]
  },
  {
   "cell_type": "markdown",
   "id": "054e77ea-69de-4a71-8fdb-1fbfb5cc7d69",
   "metadata": {},
   "source": [
    "> 437. Path Sum III"
   ]
  },
  {
   "cell_type": "code",
   "execution_count": null,
   "id": "1a136bad-b09f-4163-a37c-d85508c27fed",
   "metadata": {
    "jupyter": {
     "source_hidden": true
    },
    "tags": []
   },
   "outputs": [],
   "source": [
    "# Definition for a binary tree node.\n",
    "# class TreeNode:\n",
    "#     def __init__(self, val=0, left=None, right=None):\n",
    "#         self.val = val\n",
    "#         self.left = left\n",
    "#         self.right = right\n",
    "class Solution:\n",
    "    def pathSum(self, root: Optional[TreeNode], targetSum: int) -> int:\n",
    "        # intialize a global counter\n",
    "        self.pathCounter = 0\n",
    "        # edge case\n",
    "        if not root:\n",
    "            return 0\n",
    "        # use DFS to traverse tree\n",
    "        self.dfs(root, targetSum)\n",
    "        return self.pathCounter\n",
    "    \n",
    "    # dfs and have another check function to see if the values at the node and beneath add up to the target\n",
    "    def dfs(self, node, targetSum):\n",
    "        # exit function if node is none\n",
    "        if not node:\n",
    "            return\n",
    "        # traverse left and right branches\n",
    "        self.dfs(node.left, targetSum)\n",
    "        self.dfs(node.right, targetSum)\n",
    "        # check if node.val equals targetSum\n",
    "        self.check(node, targetSum)\n",
    "    \n",
    "    # recursively check values\n",
    "    def check(self, node, targetSum):\n",
    "        # exit function if node is none\n",
    "        if not node:\n",
    "            return \n",
    "        # check node value\n",
    "        if node.val == targetSum:\n",
    "            self.pathCounter += 1\n",
    "        # check the left and right \n",
    "        self.check(node.left, targetSum - node.val)\n",
    "        self.check(node.right, targetSum - node.val)\n"
   ]
  },
  {
   "cell_type": "markdown",
   "id": "bc9283a8-4659-425f-8037-bf4ffea10253",
   "metadata": {},
   "source": [
    "> 98. Validate Binary Search Tree"
   ]
  },
  {
   "cell_type": "code",
   "execution_count": null,
   "id": "256792e3-303d-49ad-a427-1d8f5d7b929d",
   "metadata": {
    "jupyter": {
     "source_hidden": true
    },
    "tags": []
   },
   "outputs": [],
   "source": [
    "# Definition for a binary tree node.\n",
    "# class TreeNode:\n",
    "#     def __init__(self, val=0, left=None, right=None):\n",
    "#         self.val = val\n",
    "#         self.left = left\n",
    "#         self.right = right\n",
    "\n",
    "# node values can be negative\n",
    "class Solution:\n",
    "    def isValidBST(self, root: Optional[TreeNode]) -> bool:\n",
    "        self.ValidBSTBool = True\n",
    "        self.DFS(root, -inf, inf)\n",
    "        return self.ValidBSTBool\n",
    "    \n",
    "    def DFS(self, node, floor, ceil):\n",
    "        if not node:\n",
    "            return\n",
    "        if node.val > floor and node.val < ceil:\n",
    "            self.DFS(node.left, floor, node.val)\n",
    "            self.DFS(node.right, node.val, ceil)\n",
    "        else:\n",
    "            self.ValidBSTBool = False\n"
   ]
  },
  {
   "cell_type": "markdown",
   "id": "a5c43a73-acf1-45ad-bb44-2e6addc25d23",
   "metadata": {},
   "source": [
    "> 230. Kth Smallest Element in a BST"
   ]
  },
  {
   "cell_type": "code",
   "execution_count": null,
   "id": "80352ba3-dec9-4325-9fc4-16ea3117851e",
   "metadata": {
    "jupyter": {
     "source_hidden": true
    },
    "tags": []
   },
   "outputs": [],
   "source": [
    "# Definition for a binary tree node.\n",
    "# class TreeNode:\n",
    "#     def __init__(self, val=0, left=None, right=None):\n",
    "#         self.val = val\n",
    "#         self.left = left\n",
    "#         self.right = right\n",
    "class Solution:\n",
    "    def kthSmallest(self, root: Optional[TreeNode], k: int) -> int:\n",
    "        if not root:\n",
    "            return 0\n",
    "        self.target = k\n",
    "        self.output = None\n",
    "        self.counter = 0\n",
    "        self.dfs(root)\n",
    "        \n",
    "        return self.output\n",
    "        \n",
    "    def dfs(self, node):\n",
    "        if not node:\n",
    "            return\n",
    "        # looks through lefts nodes first!\n",
    "        self.dfs(node.left)\n",
    "        # if there are no more left nodes, we have reached the smallest value\n",
    "        # we can append to list or just increment counter\n",
    "        self.counter += 1\n",
    "        # stops function early based on target k\n",
    "        if self.counter == self.target:\n",
    "            self.output = node.val\n",
    "            return\n",
    "        # check right node after left node has been checked\n",
    "        self.dfs(node.right)\n"
   ]
  },
  {
   "cell_type": "markdown",
   "id": "a2bcdb1d-21f3-4a7a-95d8-868e5c5f6a74",
   "metadata": {},
   "source": [
    "> 235. Lowest Common Ancestor of a Binary Search Tree"
   ]
  },
  {
   "cell_type": "code",
   "execution_count": null,
   "id": "1d2db5dd-e11d-485e-8996-d427cc929dba",
   "metadata": {
    "jupyter": {
     "source_hidden": true
    },
    "tags": []
   },
   "outputs": [],
   "source": [
    "# Definition for a binary tree node.\n",
    "# class TreeNode:\n",
    "#     def __init__(self, x):\n",
    "#         self.val = x\n",
    "#         self.left = None\n",
    "#         self.right = None\n",
    "\n",
    "class Solution:\n",
    "    def lowestCommonAncestor(self, root: 'TreeNode', p: 'TreeNode', q: 'TreeNode') -> 'TreeNode':\n",
    "        \n",
    "        # this doesnt seem to be needed because p and q will exist in the BST\n",
    "        if not root:\n",
    "            return -1\n",
    "        \n",
    "        self.LCA = root\n",
    "        self.dfs(root, p, q)\n",
    "        \n",
    "        return self.LCA\n",
    "    \n",
    "    def dfs(self, node, p, q):\n",
    "        \n",
    "        if not node or not p or not q:\n",
    "            return\n",
    "                \n",
    "        min_p = min(p.val, q.val)\n",
    "        max_q = max(p.val, q.val)\n",
    "        \n",
    "        if node.val >= min_p and node.val <= max_q:\n",
    "            self.LCA = node\n",
    "            return\n",
    "        \n",
    "        if node.val > min_p and node.val > max_q:\n",
    "            self.dfs(node.left, p, q)\n",
    "        \n",
    "        else:\n",
    "            self.dfs(node.right, p, q)\n",
    "            \n",
    "        "
   ]
  },
  {
   "cell_type": "markdown",
   "id": "d172e741-6c81-415b-a0a2-9a3131f00b32",
   "metadata": {},
   "source": [
    "> 114. Flatten Binary Tree to Linked List"
   ]
  },
  {
   "cell_type": "code",
   "execution_count": null,
   "id": "20b76809-2986-460c-a413-e3b19d973056",
   "metadata": {
    "jupyter": {
     "source_hidden": true
    },
    "tags": []
   },
   "outputs": [],
   "source": [
    "# Definition for a binary tree node.\n",
    "# class TreeNode:\n",
    "#     def __init__(self, val=0, left=None, right=None):\n",
    "#         self.val = val\n",
    "#         self.left = left\n",
    "#         self.right = right\n",
    "class Solution:\n",
    "    def flatten(self, root: Optional[TreeNode]) -> None:\n",
    "        \"\"\"\n",
    "        Do not return anything, modify root in-place instead.\n",
    "        \"\"\"\n",
    "        \n",
    "        self.dfs(root)\n",
    "    \n",
    "    # flatten list and return the tail node\n",
    "    def dfs(self, root):\n",
    "        if not root:\n",
    "            return\n",
    "        \n",
    "        leftTail = self.dfs(root.left)\n",
    "        rightTail = self.dfs(root.right)\n",
    "        \n",
    "        if leftTail:\n",
    "            leftTail.right = root.right \n",
    "            root.right = root.left\n",
    "            root.left = None\n",
    "        \n",
    "        # still unsure why rightTail is first\n",
    "        tail = rightTail or leftTail or root\n",
    "        return tail\n",
    "        "
   ]
  },
  {
   "cell_type": "markdown",
   "id": "07b3a8d8-22a8-4389-931d-81a98045fefd",
   "metadata": {},
   "source": [
    "> 426. Convert Binary Search Tree to Sorted Doubly Linked List"
   ]
  },
  {
   "cell_type": "code",
   "execution_count": null,
   "id": "a6c7c8a4-200e-488b-83f5-1288e1cf48cf",
   "metadata": {
    "jupyter": {
     "source_hidden": true
    },
    "tags": []
   },
   "outputs": [],
   "source": [
    "\"\"\"\n",
    "# Definition for a Node.\n",
    "class Node:\n",
    "    def __init__(self, val, left=None, right=None):\n",
    "        self.val = val\n",
    "        self.left = left\n",
    "        self.right = right\n",
    "\"\"\"\n",
    "\n",
    "class Solution:\n",
    "    def treeToDoublyList(self, root: 'Optional[Node]') -> 'Optional[Node]':\n",
    "        if not root:\n",
    "            return \n",
    "        # create a first and last pointer to create doubly linked list\n",
    "        self.first = None\n",
    "        self.last = None\n",
    "        \n",
    "        # use DFS to get to the left most root and link it to the previous node\n",
    "        # with in order traversal, link the previous node to the current node\n",
    "        self.dfs(root)\n",
    "        \n",
    "        # finish the loop by linking the last and first nodes\n",
    "        self.last.right = self.first\n",
    "        self.first.left = self.last\n",
    "        \n",
    "        return self.first\n",
    "    \n",
    "    def dfs(self, node):\n",
    "        # skip if not a node\n",
    "        if not node:\n",
    "            return\n",
    "        \n",
    "        # traverse the left side of the binary tree first to get to the first node\n",
    "        if node.left:\n",
    "            self.dfs(node.left)\n",
    "        \n",
    "        if self.last:\n",
    "            self.last.right = node\n",
    "            node.left = self.last\n",
    "        # initiliaze the left most node as the first element \n",
    "        # since it will be the only case where the last node is None\n",
    "        else:\n",
    "            self.first = node\n",
    "        # save the current node as the last node for the next recursion call    \n",
    "        self.last = node   \n",
    "        \n",
    "        # traverse right side of (sub)tree last\n",
    "        if node.right:\n",
    "            self.dfs(node.right)\n",
    "        "
   ]
  },
  {
   "cell_type": "markdown",
   "id": "4673a316-e9e0-40e6-b19a-4557394aaf90",
   "metadata": {},
   "source": [
    "> 124. Binary Tree Maximum Path Sum"
   ]
  },
  {
   "cell_type": "code",
   "execution_count": null,
   "id": "93e6bd0f-8aa5-4c0b-a5ac-ca20e02df0d8",
   "metadata": {
    "jupyter": {
     "source_hidden": true
    },
    "tags": []
   },
   "outputs": [],
   "source": [
    "# Definition for a binary tree node.\n",
    "# class TreeNode:\n",
    "#     def __init__(self, val=0, left=None, right=None):\n",
    "#         self.val = val\n",
    "#         self.left = left\n",
    "#         self.right = right\n",
    "class Solution:\n",
    "    def maxPathSum(self, root: Optional[TreeNode]) -> int:\n",
    "        self.maxPathSum = -inf\n",
    "        \n",
    "        self.dfs(root)\n",
    "        \n",
    "        return self.maxPathSum\n",
    "        \n",
    "    def dfs(self, root):\n",
    "        if not root:\n",
    "            # trick is to return 0 since the you cant perform operations on a None type\n",
    "            return 0\n",
    "        \n",
    "        leftMax = max(self.dfs(root.left), 0)\n",
    "        rightMax = max(self.dfs(root.right), 0)\n",
    "        \n",
    "        # find the max with one split\n",
    "        splitMax = leftMax + rightMax + root.val\n",
    "        \n",
    "        self.maxPathSum = max(self.maxPathSum, splitMax)\n",
    "        \n",
    "        # return the max without a split\n",
    "        return root.val + max(leftMax, rightMax)\n",
    "        \n",
    "        "
   ]
  },
  {
   "cell_type": "markdown",
   "id": "69860a0d-10d5-4c8a-8c49-205c5b74be4d",
   "metadata": {},
   "source": [
    "> 236. Lowest Common Ancestor of a Binary Tree"
   ]
  },
  {
   "cell_type": "code",
   "execution_count": null,
   "id": "1d1779ca-3cc2-435e-aac4-021a3a81ded6",
   "metadata": {
    "jupyter": {
     "source_hidden": true
    },
    "tags": []
   },
   "outputs": [],
   "source": [
    "# Definition for a binary tree node.\n",
    "# class TreeNode:\n",
    "#     def __init__(self, x):\n",
    "#         self.val = x\n",
    "#         self.left = None\n",
    "#         self.right = None\n",
    "\n",
    "class Solution:\n",
    "    def lowestCommonAncestor(self, root: 'TreeNode', p: 'TreeNode', q: 'TreeNode') -> 'TreeNode':\n",
    "        return self.dfs(root, p, q)\n",
    "\n",
    "        \n",
    "    def dfs(self, root, p, q):\n",
    "        # first check if the base case\n",
    "        # if the visited note is none or equals p or q keep pushing the values up\n",
    "        if not root or root == p or root == q:\n",
    "            return root\n",
    "        \n",
    "        # searches the left and right nodes to see if the they exist there\n",
    "        # if they do, keep returning it upwardsb through the recursive call\n",
    "        leftNode = self.dfs(root.left, p, q)\n",
    "        rightNode = self.dfs(root.right, p, q)\n",
    "        \n",
    "        # if the left and right node have values, that means the direct parent node is the LCA\n",
    "        if leftNode and rightNode:\n",
    "            return root\n",
    "        # if either the left node or right node is None, return the other branch\n",
    "        else:\n",
    "            return leftNode or rightNode\n",
    "\n",
    "\n",
    "           "
   ]
  },
  {
   "cell_type": "markdown",
   "id": "930dca8d-d17a-4dff-ab32-b3f3e0eb65eb",
   "metadata": {},
   "source": [
    "> 257. Binary Tree Paths"
   ]
  },
  {
   "cell_type": "code",
   "execution_count": null,
   "id": "685d9d06-2df4-4b4c-85f7-4508f11396e8",
   "metadata": {
    "jupyter": {
     "source_hidden": true
    },
    "tags": []
   },
   "outputs": [],
   "source": [
    "# Definition for a binary tree node.\n",
    "# class TreeNode:\n",
    "#     def __init__(self, val=0, left=None, right=None):\n",
    "#         self.val = val\n",
    "#         self.left = left\n",
    "#         self.right = right\n",
    "class Solution:\n",
    "    def binaryTreePaths(self, root: Optional[TreeNode]) -> List[str]:\n",
    "        self.rootToLeafPaths = []\n",
    "        self.dfs(root, '')\n",
    "        return self.rootToLeafPaths\n",
    "    def dfs(self, root, tempStr):\n",
    "        if not root:\n",
    "            return\n",
    "        if not root.left and not root.right:\n",
    "            tempStr = tempStr + str(root.val)\n",
    "            self.rootToLeafPaths.append(tempStr)\n",
    "        else:\n",
    "            tempStr = tempStr + str(root.val) + '->'\n",
    "            if root.left:  \n",
    "                self.dfs(root.left, tempStr)\n",
    "            if root.right:\n",
    "                self.dfs(root.right, tempStr)\n",
    "                \n"
   ]
  },
  {
   "cell_type": "markdown",
   "id": "88918fbb-edab-4ead-bb6b-96102c750cbb",
   "metadata": {},
   "source": [
    "> 314. Binary Tree Vertical Order Traversal"
   ]
  },
  {
   "cell_type": "code",
   "execution_count": null,
   "id": "98021ad7-e721-48bf-8a05-47d07940a993",
   "metadata": {
    "jupyter": {
     "source_hidden": true
    },
    "tags": []
   },
   "outputs": [],
   "source": [
    "# Definition for a binary tree node.\n",
    "# class TreeNode:\n",
    "#     def __init__(self, val=0, left=None, right=None):\n",
    "#         self.val = val\n",
    "#         self.left = left\n",
    "#         self.right = right\n",
    "class Solution:\n",
    "    def verticalOrder(self, root: Optional[TreeNode]) -> List[List[int]]:\n",
    "        # dfs from root doesnt preserves row order, need to add an extra sort and record row position\n",
    "        # when we reach a node, save it to a hashmap with the key being the position\n",
    "        # print children from left to right based on min and max columns\n",
    "        if not root:\n",
    "            return []\n",
    "        \n",
    "        self.minColumn = 0\n",
    "        self.maxColumn = 0\n",
    "        \n",
    "        self.positionDict = collections.defaultdict(list)\n",
    "        self.dfs(root, 0, 0)\n",
    "\n",
    "        ans = []\n",
    "        for col in range(self.minColumn, self.maxColumn+1):\n",
    "            self.positionDict[col].sort(key = lambda x:x[1])\n",
    "            colVals = [val for val,row in self.positionDict[col]]\n",
    "            ans.append(colVals)\n",
    "        return ans\n",
    "\n",
    "    def dfs(self, root, row, column):\n",
    "        self.minColumn = min(self.minColumn, column)\n",
    "        self.maxColumn = max(self.maxColumn, column)\n",
    "        if not root:\n",
    "            return\n",
    "        \n",
    "        if root.left:\n",
    "            self.dfs(root.left, row + 1, column - 1)\n",
    "            \n",
    "        self.positionDict[column].append((root.val, row))\n",
    "        \n",
    "        if root.right:\n",
    "            self.dfs(root.right, row + 1, column + 1)\n"
   ]
  },
  {
   "cell_type": "markdown",
   "id": "f07e345d-13b4-4da3-8e8e-f055aeb625b6",
   "metadata": {},
   "source": [
    "> 1650. Lowest Common Ancestor of a Binary Tree III"
   ]
  },
  {
   "cell_type": "code",
   "execution_count": null,
   "id": "c6d685a9-05e8-4400-857a-037bd636b059",
   "metadata": {
    "jupyter": {
     "source_hidden": true
    },
    "tags": []
   },
   "outputs": [],
   "source": [
    "\"\"\"\n",
    "# Definition for a Node.\n",
    "class Node:\n",
    "    def __init__(self, val):\n",
    "        self.val = val\n",
    "        self.left = None\n",
    "        self.right = None\n",
    "        self.parent = None\n",
    "\"\"\"\n",
    "\n",
    "# we are given the nodes of a binary tree! not the root\n",
    "# hence the parent method in the class\n",
    "# we can create a hashmap that stores the node values, then iterate upwards using the .parent\n",
    "# we can check if both nodes share the same parent and return the parent\n",
    "\n",
    "class Solution:\n",
    "    def lowestCommonAncestor(self, p: 'Node', q: 'Node') -> 'Node':\n",
    "        # create a hashmap to store visited nodes, check to see if a node has been visited with\n",
    "        # each recursive call\n",
    "        self.seen = set()\n",
    "        # search through a nodes parents and add them to the hashmap\n",
    "        self.LCA = None\n",
    "        self.dfs(p)\n",
    "        # search through the other nodes parents and the first time a match has been found\n",
    "        # return that node as the LCA\n",
    "        self.dfs(q)\n",
    "        \n",
    "        return self.LCA\n",
    "    \n",
    "    # making a DFS call but instead of looking downwards to the left or right it looks upwards\n",
    "    def dfs(self, node):\n",
    "        if node in self.seen:\n",
    "            # print(f'LCA found {node.val}')\n",
    "            self.LCA = node\n",
    "            return \n",
    "        # print(f'adding {node.val}')\n",
    "        self.seen.add(node)\n",
    "        if node.parent:\n",
    "            self.dfs(node.parent)"
   ]
  },
  {
   "cell_type": "code",
   "execution_count": null,
   "id": "3aabb814-4d1d-4b96-ac4b-d5b1cd96ed22",
   "metadata": {
    "jupyter": {
     "source_hidden": true
    },
    "tags": []
   },
   "outputs": [],
   "source": [
    "# constant memory complexity\n",
    "\"\"\"\n",
    "# Definition for a Node.\n",
    "class Node:\n",
    "    def __init__(self, val):\n",
    "        self.val = val\n",
    "        self.left = None\n",
    "        self.right = None\n",
    "        self.parent = None\n",
    "\"\"\"\n",
    "\n",
    "# we are given the nodes of a binary tree! not the root\n",
    "# hence the parent method in the class\n",
    "# we can create a hashmap that stores the node values, then iterate upwards using the .parent\n",
    "# we can check if both nodes share the same parent and return the parent\n",
    "\n",
    "class Solution:\n",
    "    def lowestCommonAncestor(self, p: 'Node', q: 'Node') -> 'Node':\n",
    "        # even if the number of nodees to the least common node is unequal\n",
    "        # if we traverse the p node after we reach the end of the q node\n",
    "        # and do the vice versa, we will always hit a common node as the LCA\n",
    "        p1, p2 = p, q\n",
    "        while p1 != p2:\n",
    "            if p1.parent:\n",
    "                p1 = p1.parent\n",
    "            else:\n",
    "                p1 = q\n",
    "            if p2.parent:\n",
    "                p2 = p2.parent\n",
    "            else:\n",
    "                p2 = p\n",
    "        return p1\n",
    "            "
   ]
  },
  {
   "cell_type": "markdown",
   "id": "1924849b-4469-4d04-ae88-86d04de5bc02",
   "metadata": {},
   "source": [
    "> 339. Nested List Weight Sum"
   ]
  },
  {
   "cell_type": "code",
   "execution_count": null,
   "id": "80c5ca63-0692-42a6-8db8-1f2d21a80bef",
   "metadata": {
    "jupyter": {
     "source_hidden": true
    },
    "tags": []
   },
   "outputs": [],
   "source": [
    "# \"\"\"\n",
    "# This is the interface that allows for creating nested lists.\n",
    "# You should not implement it, or speculate about its implementation\n",
    "# \"\"\"\n",
    "#class NestedInteger:\n",
    "#    def __init__(self, value=None):\n",
    "#        \"\"\"\n",
    "#        If value is not specified, initializes an empty list.\n",
    "#        Otherwise initializes a single integer equal to value.\n",
    "#        \"\"\"\n",
    "#\n",
    "#    def isInteger(self):\n",
    "#        \"\"\"\n",
    "#        @return True if this NestedInteger holds a single integer, rather than a nested list.\n",
    "#        :rtype bool\n",
    "#        \"\"\"\n",
    "#\n",
    "#    def add(self, elem):\n",
    "#        \"\"\"\n",
    "#        Set this NestedInteger to hold a nested list and adds a nested integer elem to it.\n",
    "#        :rtype void\n",
    "#        \"\"\"\n",
    "#\n",
    "#    def setInteger(self, value):\n",
    "#        \"\"\"\n",
    "#        Set this NestedInteger to hold a single integer equal to value.\n",
    "#        :rtype void\n",
    "#        \"\"\"\n",
    "#\n",
    "#    def getInteger(self):\n",
    "#        \"\"\"\n",
    "#        @return the single integer that this NestedInteger holds, if it holds a single integer\n",
    "#        Return None if this NestedInteger holds a nested list\n",
    "#        :rtype int\n",
    "#        \"\"\"\n",
    "#\n",
    "#    def getList(self):\n",
    "#        \"\"\"\n",
    "#        @return the nested list that this NestedInteger holds, if it holds a nested list\n",
    "#        Return None if this NestedInteger holds a single integer\n",
    "#        :rtype List[NestedInteger]\n",
    "#        \"\"\"\n",
    "\n",
    "class Solution:\n",
    "    def depthSum(self, nestedList: List[NestedInteger]) -> int:\n",
    "        # print(nestedList)\n",
    "        # first instinct is recursion\n",
    "        # max depth is 50, should be within the stack overflow limits but to be safe we can use a stack\n",
    "        self.totalSum = 0\n",
    "        self.dfs(nestedList, 1)\n",
    "        return self.totalSum\n",
    "    \n",
    "    def dfs(self, nestedList, level):\n",
    "        for nList in nestedList:\n",
    "            if nList.isInteger():\n",
    "                self.totalSum = self.totalSum + nList.getInteger() * level\n",
    "            else:\n",
    "                self.dfs(nList.getList(), level + 1)\n",
    "\n",
    "    "
   ]
  },
  {
   "cell_type": "markdown",
   "id": "c3390465-c850-4d9f-9ad8-c1d97039b662",
   "metadata": {},
   "source": [
    "___\n",
    "# DFS\n",
    "- Adjacency List\n",
    "___"
   ]
  },
  {
   "cell_type": "markdown",
   "id": "4ce90057-972b-484b-bcc3-fd3b02c5f895",
   "metadata": {},
   "source": [
    "> 261. Graph Valid Tree"
   ]
  },
  {
   "cell_type": "code",
   "execution_count": null,
   "id": "826040dc-39d2-4793-b450-d9e324fb2741",
   "metadata": {
    "tags": []
   },
   "outputs": [],
   "source": [
    "class Solution:\n",
    "    def validTree(self, n: int, edges: List[List[int]]) -> bool:\n",
    "        # empty graph is technically a graph\n",
    "        if not n:\n",
    "            return True\n",
    "            \n",
    "        # create an adjaceny list with a default dict\n",
    "        self.adjDict = collections.defaultdict(list)\n",
    "        for n1, n2 in edges:\n",
    "            self.adjDict[n1].append(n2)\n",
    "            self.adjDict[n2].append(n1)\n",
    "        \n",
    "        # create a set to hold values already traversed by the graph to catch cycles\n",
    "        self.seen = set()\n",
    "        \n",
    "        # only return true if no cycles are found in the graph and\n",
    "        # if the number of nodes equals the length of the seen nodes (no unconnected nodes)\n",
    "        return self.dfs(0, -1) and n == len(self.seen)\n",
    "        \n",
    "    def dfs(self, node, prevNode):\n",
    "        # add the node to the set\n",
    "        self.seen.add(node)\n",
    "        # iterate through the nodes connected neighbors\n",
    "        for adjNode in self.adjDict[node]:\n",
    "            # ignore the case where the neighbor is the previous node\n",
    "            if adjNode == prevNode:\n",
    "                continue\n",
    "            # make sure there are no cycles by checking if the neighbor nodes are in the set\n",
    "            if adjNode in self.seen:\n",
    "                return False\n",
    "            # run DFS on all unseen neighbor nodes\n",
    "            else:\n",
    "                self.dfs(adjNode, node)\n",
    "        return True"
   ]
  },
  {
   "cell_type": "markdown",
   "id": "a4472478-78ea-445c-ab5b-a8807f5588c6",
   "metadata": {},
   "source": [
    "___\n",
    "# Islands\n",
    "___"
   ]
  },
  {
   "cell_type": "markdown",
   "id": "dea53c57-774c-4e19-aeaa-470030a1e1ef",
   "metadata": {},
   "source": [
    "> 200. Number of Islands"
   ]
  },
  {
   "cell_type": "code",
   "execution_count": null,
   "id": "97e37966-1a1b-49b7-bf16-0b25f4f5d474",
   "metadata": {
    "jupyter": {
     "source_hidden": true
    },
    "tags": []
   },
   "outputs": [],
   "source": [
    "# fastest way is not to use in range(m) and in range(n)\n",
    "class Solution:\n",
    "    def numIslands(self, grid: List[List[str]]) -> int:\n",
    "        self.grid = grid\n",
    "        # edge case\n",
    "        if not self.grid:\n",
    "            return 0\n",
    "        \n",
    "        # get the grid boundries\n",
    "        self.m, self.n = len(grid), len(grid[0]) \n",
    "        # self.seen = set()\n",
    "        self.numIslands = 0\n",
    "        \n",
    "        # searches over grid to find when the grid value is 1 and not in our set\n",
    "        # if conditions are met, do a BFS or DFS on the point with all adjacent directions to add all neighboring lands to the set\n",
    "        # if conditions are met, due to the prior BFS/DFS, that also means that it is a new island\n",
    "        for x in range(self.m):\n",
    "            for y in range(self.n):\n",
    "                if self.grid[x][y] == \"1\":\n",
    "                    self.dfs(x, y)\n",
    "                    self.numIslands += 1            \n",
    "        return self.numIslands\n",
    "\n",
    "    # DFS recursively to speed up algorithm?\n",
    "    def dfs(self, x, y):\n",
    "        if x >= 0 and x < self.m and y >= 0 and y < self.n and self.grid[x][y] == \"1\":\n",
    "            self.grid[x][y] = \"#\"\n",
    "            # DFS all adjacent neigbhors\n",
    "            self.dfs(x + 1, y)\n",
    "            self.dfs(x - 1, y)\n",
    "            self.dfs(x, y + 1)\n",
    "            self.dfs(x, y - 1)\n",
    "        else:\n",
    "            return\n",
    "        \n",
    "        \n",
    "            \n",
    "        \n",
    "        "
   ]
  },
  {
   "cell_type": "code",
   "execution_count": null,
   "id": "d56b4475-4746-4af3-8094-585de306b337",
   "metadata": {
    "jupyter": {
     "source_hidden": true
    },
    "tags": []
   },
   "outputs": [],
   "source": [
    "# using sets\n",
    "class Solution:\n",
    "    def numIslands(self, grid: List[List[str]]) -> int:\n",
    "        self.grid = grid\n",
    "        # edge case\n",
    "        if not self.grid:\n",
    "            return 0\n",
    "        \n",
    "        # get the grid boundries\n",
    "        self.m, self.n = len(grid), len(grid[0]) \n",
    "        self.seen = set()\n",
    "        self.numIslands = 0\n",
    "        \n",
    "        # searches over grid to find when the grid value is 1 and not in our set\n",
    "        # if conditions are met, do a BFS or DFS on the point with all adjacent directions to add all neighboring lands to the set\n",
    "        # if conditions are met, due to the prior BFS/DFS, that also means that it is a new island\n",
    "        for x in range(self.m):\n",
    "            for y in range(self.n):\n",
    "                if self.grid[x][y] == \"1\" and (x, y) not in self.seen:\n",
    "                    self.dfs(x, y)\n",
    "                    self.numIslands += 1            \n",
    "        return self.numIslands\n",
    "        \n",
    "    def dfs(self, x, y):\n",
    "        stack = collections.deque([(x, y)])\n",
    "        \n",
    "        # create an array of directions\n",
    "        directions = [\n",
    "            (1, 0),\n",
    "            (-1, 0),\n",
    "            (0, 1),\n",
    "            (0, -1)\n",
    "        ]\n",
    "        \n",
    "        # create a stack of not visited locations to recursively search for all 1s in the island\n",
    "        while stack:\n",
    "            x, y = stack.popleft()\n",
    "            for xDir, yDir in directions:\n",
    "                newX = x + xDir\n",
    "                newY = y + yDir\n",
    "                # need to check first if newX and newY are in within the boundaries of the grid\n",
    "                # then if the values is equal to \"1\"\n",
    "                # then if it is not in the set\n",
    "                if newX in range(self.m) and \\\n",
    "                newY in range(self.n) and\\\n",
    "                self.grid[newX][newY] == \"1\" and \\\n",
    "                (newX, newY) not in self.seen:\n",
    "                    self.seen.add((newX, newY))\n",
    "                    stack.append((newX, newY))"
   ]
  },
  {
   "cell_type": "code",
   "execution_count": null,
   "id": "ddc1bb0f-f173-48c8-b4f5-98c64a74e332",
   "metadata": {
    "jupyter": {
     "source_hidden": true
    },
    "tags": []
   },
   "outputs": [],
   "source": [
    "# rewriting grid to save on memory, dont use range to make the runtime faster\n",
    "# rewriting grid to save on memory\n",
    "class Solution:\n",
    "    def numIslands(self, grid: List[List[str]]) -> int:\n",
    "        self.grid = grid\n",
    "        # edge case\n",
    "        if not self.grid:\n",
    "            return 0\n",
    "        \n",
    "        # get the grid boundries\n",
    "        self.m, self.n = len(grid), len(grid[0]) \n",
    "        # self.seen = set()\n",
    "        self.numIslands = 0\n",
    "        \n",
    "        # searches over grid to find when the grid value is 1 and not in our set\n",
    "        # if conditions are met, do a BFS or DFS on the point with all adjacent directions to add all neighboring lands to the set\n",
    "        # if conditions are met, due to the prior BFS/DFS, that also means that it is a new island\n",
    "        for x in range(self.m):\n",
    "            for y in range(self.n):\n",
    "                if self.grid[x][y] == \"1\":\n",
    "                    self.dfs(x, y)\n",
    "                    self.numIslands += 1            \n",
    "        return self.numIslands\n",
    "        \n",
    "    def dfs(self, x, y):\n",
    "        stack = collections.deque([(x, y)])\n",
    "        \n",
    "        # create an array of directions\n",
    "        directions = [\n",
    "            (1, 0),\n",
    "            (-1, 0),\n",
    "            (0, 1),\n",
    "            (0, -1)\n",
    "        ]\n",
    "        \n",
    "        # create a stack of not visited locations to recursively search for all 1s in the island\n",
    "        while stack:\n",
    "            x, y = stack.popleft()\n",
    "            for xDir, yDir in directions:\n",
    "                newX = x + xDir\n",
    "                newY = y + yDir\n",
    "                # need to check first if newX and newY are in within the boundaries of the grid\n",
    "                # then if the values is equal to \"1\"\n",
    "                # then if it is not in the set\n",
    "                if newX >= 0 and newX < self.m and \\\n",
    "                newY >= 0 and newY < self.n and\\\n",
    "                self.grid[newX][newY] == \"1\":\n",
    "                    self.grid[newX][newY] = \"#\"\n",
    "                    stack.append((newX, newY))           \n",
    "        \n",
    "        \n",
    "        "
   ]
  },
  {
   "cell_type": "markdown",
   "id": "d289c98d-8e15-41b1-b983-6ef70b400e9b",
   "metadata": {},
   "source": [
    "> 827. Making A Large Island"
   ]
  },
  {
   "cell_type": "code",
   "execution_count": null,
   "id": "343325c9-c702-4c8e-9007-38686693a2da",
   "metadata": {
    "jupyter": {
     "source_hidden": true
    },
    "tags": []
   },
   "outputs": [],
   "source": [
    "class Solution:\n",
    "    def largestIsland(self, grid: List[List[int]]) -> int:\n",
    "        # creating class attributes so dfs method can access them\n",
    "        self.grid = grid\n",
    "        # create a set of indicies if a 1 has been seen in the grid\n",
    "        self.islandSeen = set()\n",
    "        # create a unique index for islands, starts at 2 since the grid is made up of 0s and 1s\n",
    "        islandIndex = 2\n",
    "        # record the area of each island in a hashmap\n",
    "        self.islandArea = collections.defaultdict(int)\n",
    "        \n",
    "        self.rows = len(grid)\n",
    "        self.cols = len(grid[0])\n",
    "        \n",
    "        # we will return the max area\n",
    "        maxArea = 0\n",
    "        \n",
    "        # create a list of adjacent directions to visit when searching for island areas as well as islands neigbhoring 0s\n",
    "        self.directions = [\n",
    "            [1, 0],\n",
    "            [-1, 0],\n",
    "            [0, 1],\n",
    "            [0, -1]\n",
    "        ]\n",
    "        \n",
    "        # loop over grid to find islands and island areas and save to a hashmap\n",
    "        for i in range(self.rows):\n",
    "            for j in range(self.cols):\n",
    "                if self.grid[i][j] == 1 and (i, j) not in self.islandSeen:\n",
    "                    self.islandSeen.add((i,j))\n",
    "                    self.dfs(islandIndex, i, j)\n",
    "                    islandIndex += 1\n",
    "        \n",
    "        # loop over grid to find 0s and find max area of an island\n",
    "        zeroPresent = False # for edge case where the grid is all 1s\n",
    "        for i in range(self.rows):\n",
    "            for j in range(self.cols):\n",
    "                if self.grid[i][j] == 0:\n",
    "                    # create a new set everytime a 0 is found in the grid\n",
    "                    neigbhorIslandIndex = set()\n",
    "                    zeroPresent = True # negate edge case of grid full of 1s\n",
    "                    for dirX, dirY in self.directions:\n",
    "                        newCoordX, newCoordY = i + dirX, j + dirY\n",
    "                        if 0 <= newCoordX < self.rows \\\n",
    "                        and 0 <= newCoordY < self.cols \\\n",
    "                        and self.grid[newCoordX][newCoordY] != 0:\n",
    "                            # add the unique index of the neighboring islands to the set\n",
    "                            neigbhorIslandIndex.add(self.grid[newCoordX][newCoordY])\n",
    "                    area = 1 # need to account for switching the 0 to a 1 adds 1 to the area\n",
    "                    # add the respective areas of each neigbhoring island to the area\n",
    "                    for neighborIndex in neigbhorIslandIndex:\n",
    "                        area += self.islandArea[neighborIndex]\n",
    "                    # keep track of the max area from flipping a 0 to 1\n",
    "                    maxArea = max(maxArea, area)\n",
    "        \n",
    "        # return the area of the grid if the grid is only 1s else return the max area found\n",
    "        if not zeroPresent:\n",
    "            return self.rows * self.cols\n",
    "        else:\n",
    "            return maxArea\n",
    "    \n",
    "    # dfs method searches the neigbhors of an island to calculate the area\n",
    "    def dfs(self, islandIndex, x, y):\n",
    "        # change the values of the grid the the unique island index so we can find the area of a neighbor island later when searching for 0s\n",
    "        self.grid[x][y] = islandIndex\n",
    "        # add to the area of the island within the hashmap to find the total area after DFS is done\n",
    "        self.islandArea[islandIndex] += 1\n",
    "        # perform dfs on neighbors if they are within the grid and equal to 1 and not in the seen set\n",
    "        for dirX, dirY in self.directions:\n",
    "            newCoordX, newCoordY = x + dirX, y + dirY\n",
    "            if 0 <= newCoordX < self.rows \\\n",
    "            and 0 <= newCoordY < self.cols \\\n",
    "            and (newCoordX, newCoordY) not in self.islandSeen \\\n",
    "            and self.grid[newCoordX][newCoordY] == 1:\n",
    "                self.islandSeen.add((newCoordX, newCoordY))\n",
    "                # make sure to include the current unique island index since dfs will only end when the island is completely searched\n",
    "                self.dfs(islandIndex, newCoordX, newCoordY)"
   ]
  },
  {
   "cell_type": "markdown",
   "id": "ab26a816-7d77-4e54-97f5-3143fc9bfbd9",
   "metadata": {},
   "source": [
    "___\n",
    "# Misc\n",
    "___"
   ]
  },
  {
   "cell_type": "markdown",
   "id": "b1804b49-a5fb-43e7-9b68-dba2bc147e89",
   "metadata": {
    "tags": []
   },
   "source": [
    "> 133. Clone Graph"
   ]
  },
  {
   "cell_type": "code",
   "execution_count": null,
   "id": "aba0374d-25d2-4497-8288-55ac02ce171b",
   "metadata": {
    "jupyter": {
     "source_hidden": true
    },
    "tags": []
   },
   "outputs": [],
   "source": [
    "class Node:\n",
    "    def __init__(self, val = 0, neighbors = None):\n",
    "        self.val = val\n",
    "        self.neighbors = neighbors if neighbors is not None else []\n",
    "\n",
    "\n",
    "class Solution:\n",
    "    def cloneGraph(self, node: 'Node') -> 'Node':\n",
    "        if node is None:\n",
    "            return None\n",
    "        \n",
    "        oldToNew = {}\n",
    "        # going to iterate through each node and add it to a hashmap\n",
    "        def copyNodeDFS(node):\n",
    "            # check if node is in hashmap, if it is we can return the clone\n",
    "            if node in oldToNew:\n",
    "                return oldToNew[node]\n",
    "            # if node is not in the hashmap, add a copy to it\n",
    "            copy = Node(val = node.val)\n",
    "            oldToNew[node] = copy\n",
    "            \n",
    "            # add the nodes neighbors to the hashmaps using recursion\n",
    "            for neighbor in node.neighbors:\n",
    "                copy.neighbors.append(copyNodeDFS(neighbor))\n",
    "            return copy\n",
    "        \n",
    "        return copyNodeDFS(node)"
   ]
  }
 ],
 "metadata": {
  "kernelspec": {
   "display_name": "Python 3",
   "language": "python",
   "name": "python3"
  },
  "language_info": {
   "codemirror_mode": {
    "name": "ipython",
    "version": 3
   },
   "file_extension": ".py",
   "mimetype": "text/x-python",
   "name": "python",
   "nbconvert_exporter": "python",
   "pygments_lexer": "ipython3",
   "version": "3.9.2"
  }
 },
 "nbformat": 4,
 "nbformat_minor": 5
}
