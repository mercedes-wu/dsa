{
 "cells": [
  {
   "cell_type": "markdown",
   "id": "fa7c1b00-228e-425b-be14-b293cb36951d",
   "metadata": {},
   "source": [
    "___\n",
    "# Strings\n",
    "___"
   ]
  },
  {
   "cell_type": "markdown",
   "id": "d71a285a-99c8-47f1-a934-4e12d4f08b71",
   "metadata": {},
   "source": [
    "> 953. Verifying an Alien Dictionary"
   ]
  },
  {
   "cell_type": "code",
   "execution_count": null,
   "id": "b47bda69-50a3-4493-bb8d-4f57e7882bb2",
   "metadata": {
    "jupyter": {
     "source_hidden": true
    },
    "tags": []
   },
   "outputs": [],
   "source": [
    "class Solution:\n",
    "    def isAlienSorted(self, words: List[str], order: str) -> bool:\n",
    "        numWords = len(words)\n",
    "        self.alienDict = {}\n",
    "        for i in range(len(order)):\n",
    "            self.alienDict[order[i]] = i\n",
    "        \n",
    "        for i in range(numWords-1):\n",
    "            print(words[i], words[i+1])\n",
    "            comparisonBool = self.compareStrings(words[i], words[i+1])\n",
    "            if comparisonBool:\n",
    "                continue\n",
    "            else:\n",
    "                return False\n",
    "        return True\n",
    "    \n",
    "    def compareStrings(self, string1, string2):\n",
    "        minLength = min(len(string1), len(string2))\n",
    "        print(minLength)\n",
    "        for i in range(minLength):\n",
    "            if self.alienDict[string1[i]] < self.alienDict[string2[i]]:\n",
    "                return True\n",
    "            elif self.alienDict[string1[i]] == self.alienDict[string2[i]]:\n",
    "                continue\n",
    "            else:\n",
    "                return False\n",
    "        if len(string1) > len(string2):\n",
    "            return False\n",
    "        else:\n",
    "            return True"
   ]
  },
  {
   "cell_type": "markdown",
   "id": "8f36f757-0d2e-44e1-9a94-615abcd965d9",
   "metadata": {},
   "source": [
    "> 125. Valid Palindrome"
   ]
  },
  {
   "cell_type": "code",
   "execution_count": null,
   "id": "05e15cb1-4546-49f3-9360-e0de35db9249",
   "metadata": {
    "jupyter": {
     "source_hidden": true
    },
    "tags": []
   },
   "outputs": [],
   "source": [
    "class Solution:\n",
    "    def isPalindrome(self, s: str) -> bool:\n",
    "        s = s.lower()\n",
    "        # a one character string is technically a palindrome\n",
    "        # initializing pointers\n",
    "        l = 0\n",
    "        r = len(s) - 1\n",
    "        while l <= r:\n",
    "            if not s[l].isalnum():\n",
    "                l += 1\n",
    "                continue\n",
    "            if not s[r].isalnum():\n",
    "                r -= 1\n",
    "                continue\n",
    "            # print(s[l], s[r])\n",
    "            \n",
    "            if s[l] == s[r]:\n",
    "                l += 1\n",
    "                r -= 1\n",
    "            else:\n",
    "                return False\n",
    "            \n",
    "        return True"
   ]
  },
  {
   "cell_type": "markdown",
   "id": "843c130f-e6d7-4bb4-abd6-e42efea825eb",
   "metadata": {},
   "source": [
    "> 680. Valid Palindrome II"
   ]
  },
  {
   "cell_type": "code",
   "execution_count": null,
   "id": "81b57dee-735d-4e84-a2dd-660935bd603b",
   "metadata": {
    "jupyter": {
     "source_hidden": true
    },
    "tags": []
   },
   "outputs": [],
   "source": [
    "class Solution:\n",
    "    def validPalindrome(self, s: str) -> bool:\n",
    "        # initializing pointers\n",
    "        l = 0\n",
    "        r = len(s) - 1\n",
    "        return self.checkPalindrome(s, l, r, False)\n",
    "        \n",
    "        \n",
    "    def checkPalindrome(self,s, l, r, charDeleted):\n",
    "        while l <= r:\n",
    "            if s[l] == s[r]:\n",
    "                l += 1\n",
    "                r -= 1\n",
    "            else:\n",
    "                if charDeleted:\n",
    "                    return False\n",
    "                else:\n",
    "                    return self.checkPalindrome(s, l, r-1, True) or self.checkPalindrome(s, l+1, r, True)\n",
    "        return True\n",
    "            "
   ]
  },
  {
   "cell_type": "markdown",
   "id": "8ace405e-23e0-4872-a9f0-2dc48cf16b23",
   "metadata": {},
   "source": [
    "> 408. Valid Word Abbreviation"
   ]
  },
  {
   "cell_type": "code",
   "execution_count": null,
   "id": "e7f6b359-5d40-4ac7-8cc4-c161ddf84b58",
   "metadata": {
    "jupyter": {
     "source_hidden": true
    },
    "tags": []
   },
   "outputs": [],
   "source": [
    "class Solution:\n",
    "    def validWordAbbreviation(self, word: str, abbr: str) -> bool:\n",
    "        # iterate through abbreviations with the substitutions as case statements\n",
    "        \n",
    "        # use a pointer for the word string to skip ahead words if a number is in abbr\n",
    "        wordPointer = 0\n",
    "        # use a numVariable to convert the numbers in abbr to an integer\n",
    "        num = 0\n",
    "        \n",
    "        for i, char in enumerate(abbr):\n",
    "            if char.isdigit():\n",
    "                # check if the first number in the abbr string is \"0\"\n",
    "                if char == \"0\" and num == 0:\n",
    "                    return False\n",
    "                num = num * 10 + int(char)\n",
    "            else:\n",
    "                # set the wordPointer to the correct index from the number in abbr\n",
    "                wordPointer = wordPointer + num\n",
    "                # reset the num for the subsequent number in abbr\n",
    "                num = 0\n",
    "                # check if the characters of each respective pointer are matching and if they are within index\n",
    "                if wordPointer >= len(word) or char != word[wordPointer]:\n",
    "                    return False\n",
    "                # if the characters are the same, we need to increment the word pointer for the next comp\n",
    "                wordPointer += 1\n",
    "            \n",
    "        # egde case when the abbreviation is just a number\n",
    "        return (wordPointer + num) == len(word)"
   ]
  },
  {
   "cell_type": "markdown",
   "id": "5c70ba2a-aec0-43ac-8e17-dff36e9c16e8",
   "metadata": {},
   "source": [
    "> 249. Group Shifted Strings"
   ]
  },
  {
   "cell_type": "code",
   "execution_count": null,
   "id": "29dcfacd-451d-4ea5-a95c-c3ff8d0a8f15",
   "metadata": {
    "jupyter": {
     "source_hidden": true
    },
    "tags": []
   },
   "outputs": [],
   "source": [
    "class Solution:\n",
    "    def groupStrings(self, strings: List[str]) -> List[List[str]]:\n",
    "        # create a dictionary with a integer value for each letter\n",
    "        alphaDict = {\n",
    "            'a':0,\n",
    "            'b':1,\n",
    "            'c':2,\n",
    "            'd':3,\n",
    "            'e':4,\n",
    "            'f':5,\n",
    "            'g':6,\n",
    "            'h':7,\n",
    "            'i':8,\n",
    "            'j':9,\n",
    "            'k':10,\n",
    "            'l':11,\n",
    "            'm':12,\n",
    "            'n':13,\n",
    "            'o':14,\n",
    "            'p':15,\n",
    "            'q':16,\n",
    "            'r':17,\n",
    "            's':18,\n",
    "            't':19,\n",
    "            'u':20,\n",
    "            'v':21,\n",
    "            'w':22,\n",
    "            'x':23,\n",
    "            'y':24,\n",
    "            'z':25\n",
    "        }\n",
    "        \n",
    "        # create a dictionary to store shifted strings\n",
    "        resultDict = collections.defaultdict(list)\n",
    "        \n",
    "        for string in strings:\n",
    "            lenStr = len(string)\n",
    "            # any string of length one is a group shifted string\n",
    "            if lenStr == 1:\n",
    "                resultDict[1].append(string)\n",
    "            else:\n",
    "                tempList = []\n",
    "                for i in range(1,lenStr): \n",
    "                    rotKey = (26 + alphaDict[string[i]] - alphaDict[string[i - 1]]) % 26\n",
    "                    tempList.append(rotKey)\n",
    "                resultDict[tuple(tempList)].append(string)\n",
    "        \n",
    "        ans = []\n",
    "        for k in resultDict:\n",
    "            ans.append(resultDict[k])\n",
    "            \n",
    "        return ans\n",
    "                \n",
    "                \n",
    "                            "
   ]
  },
  {
   "cell_type": "markdown",
   "id": "21cdba9c-daf7-422a-97ec-02fddbce1377",
   "metadata": {},
   "source": [
    "___\n",
    "# Arrays\n",
    "___"
   ]
  },
  {
   "cell_type": "markdown",
   "id": "ebd9a90d-e87c-4bbb-b126-b188afc081a2",
   "metadata": {},
   "source": [
    "> 1. Two Sum"
   ]
  },
  {
   "cell_type": "code",
   "execution_count": null,
   "id": "ac09fb86-dec8-424f-9fb5-0c0a0309ee2c",
   "metadata": {
    "jupyter": {
     "source_hidden": true
    },
    "tags": []
   },
   "outputs": [],
   "source": [
    "class Solution:\n",
    "    def twoSum(self, nums: List[int], target: int) -> List[int]:\n",
    "        # exactly one solution\n",
    "        # numbers can be positive or negative\n",
    "        # target can be positive or negative\n",
    "        # length of nums must be larger than 1\n",
    "        \n",
    "        # we can create a hashmap to hold the values of each element (as the key)\n",
    "        # and index (as the value)\n",
    "        # we can iterate through the array, and if the target - the array[i] value \n",
    "        # is in the hashmap, we have found the pair\n",
    "        \n",
    "        # time complexity o(n), space complexity o(n)\n",
    "        \n",
    "        # instantiate hashmap\n",
    "        hashmap = {}\n",
    "        \n",
    "        # loop through numbers in array\n",
    "        for i in range(len(nums)):\n",
    "            # calculate value and the target - value\n",
    "            val = nums[i]\n",
    "            compliment = target - val\n",
    "            # if a pair is found, return indices\n",
    "            if compliment in hashmap:\n",
    "                return [hashmap[compliment], i]\n",
    "            hashmap[val] = i\n",
    "            \n",
    "        # if no solution is found, return [-1,-1]\n",
    "        return [-1, -1]\n",
    "        "
   ]
  },
  {
   "cell_type": "markdown",
   "id": "130fedfe-618d-4b4b-83df-80ceff708d40",
   "metadata": {},
   "source": [
    "> 167. Two Sum II - Input Array Is Sorted"
   ]
  },
  {
   "cell_type": "code",
   "execution_count": null,
   "id": "0e7e571d-5a15-4ce7-af84-0535d97910c2",
   "metadata": {
    "jupyter": {
     "source_hidden": true
    },
    "tags": []
   },
   "outputs": [],
   "source": [
    "class Solution:\n",
    "    def twoSum(self, numbers: List[int], target: int) -> List[int]:\n",
    "        startPointer = 0\n",
    "        endPointer = len(numbers) - 1\n",
    "        \n",
    "        while startPointer < endPointer:\n",
    "            currSum = numbers[startPointer] + numbers[endPointer]\n",
    "            if currSum == target:\n",
    "                return [startPointer + 1, endPointer + 1]\n",
    "            if currSum > target:\n",
    "                endPointer -= 1\n",
    "            else:\n",
    "                startPointer += 1\n",
    "        \n",
    "        return [-1, -1]"
   ]
  },
  {
   "cell_type": "markdown",
   "id": "4255502e-b0d4-45b3-aa16-d8a317c3a70f",
   "metadata": {},
   "source": [
    "> 15. 3Sum (without sorting input array)"
   ]
  },
  {
   "cell_type": "code",
   "execution_count": null,
   "id": "30efa875-69be-4b5c-b12a-f393c300fe45",
   "metadata": {
    "jupyter": {
     "source_hidden": true
    },
    "tags": []
   },
   "outputs": [],
   "source": [
    "class Solution:\n",
    "    def threeSum(self, nums: List[int]) -> List[List[int]]:\n",
    "        # target is 0\n",
    "        # indices can not be the same, but numbers can be repeated\n",
    "        # if we hold one number (held number)\n",
    "        # we can pretend the rest of the array is a two sum problem\n",
    "        # the target will be -(held number)\n",
    "        \n",
    "        # create return array\n",
    "        indices = []\n",
    "        \n",
    "        # create another hashmap to contain indices that we already looked at\n",
    "        duplicates = set()\n",
    "        \n",
    "        # loop through nums, set an element equal to the hold number\n",
    "        for i in range(len(nums)):\n",
    "            target = -nums[i]\n",
    "            # instantiate a hashmap for the two sum sub problem in the for loop below\n",
    "            tempDict = {}\n",
    "            for j in range(i+1, len(nums)):\n",
    "                compliment = target - nums[j]\n",
    "                if compliment in tempDict:\n",
    "                    # sorting to not add duplicate solutions to output\n",
    "                    solution = sorted([nums[i], nums[j], compliment])\n",
    "                    # convert to tuple to add to a set and for checking\n",
    "                    tupleSolutions = tuple(solution)\n",
    "                    # add the sorted values to the output if the values have not already appeared\n",
    "                    if tupleSolutions not in duplicates:\n",
    "                        indices.append(tupleSolutions)\n",
    "                    # add the sorted values in a tuple to the set\n",
    "                    duplicates.add(tupleSolutions)\n",
    "                # add the number at the jth position to the temporay dictionary     \n",
    "                tempDict[nums[j]] = j                       \n",
    "                \n",
    "        # return array of indice triplets\n",
    "        return indices"
   ]
  },
  {
   "cell_type": "markdown",
   "id": "b2e9dde9-d60c-4a45-ae1c-2c501973553c",
   "metadata": {},
   "source": [
    "> 15. 3Sum (sorting input array)"
   ]
  },
  {
   "cell_type": "code",
   "execution_count": null,
   "id": "913c01c0-dac6-4c83-a116-d58ef86d1156",
   "metadata": {
    "jupyter": {
     "source_hidden": true
    },
    "tags": []
   },
   "outputs": [],
   "source": [
    "class Solution:\n",
    "    def threeSum(self, nums: List[int]) -> List[List[int]]:\n",
    "        # if we are allowed to sort, we can use this to help filter out duplicates\n",
    "        nums.sort()\n",
    "        self.vals = []\n",
    "        \n",
    "        # create a hashmap for seen combinations\n",
    "        self.seen = set()\n",
    "        \n",
    "        prev = None\n",
    "        for i in range(len(nums)):\n",
    "            if nums[i] == prev:\n",
    "                continue\n",
    "            \n",
    "            self.twoSum(nums[i+1:], -nums[i])\n",
    "            \n",
    "            prev = nums[i]\n",
    "        \n",
    "        return self.vals\n",
    "        \n",
    "    def twoSum(self, nums, target):\n",
    "        if not nums:\n",
    "            return\n",
    "        s = 0\n",
    "        e = len(nums) - 1\n",
    "        \n",
    "        while s < e:\n",
    "            currSum = nums[s] + nums[e]\n",
    "            if currSum == target:\n",
    "                solution = sorted([nums[s], nums[e], -target])\n",
    "                tupSolution = tuple(solution)\n",
    "                if tupSolution not in self.seen:\n",
    "                    self.vals.append(solution)\n",
    "                self.seen.add(tuple(solution))\n",
    "                s += 1\n",
    "                e -= 1\n",
    "            elif currSum < target:\n",
    "                s += 1\n",
    "            else:\n",
    "                e -= 1"
   ]
  },
  {
   "cell_type": "markdown",
   "id": "a02760a0-3ff3-4fcc-b8c4-6aa612be668a",
   "metadata": {},
   "source": [
    "> 1762. Buildings With an Ocean View"
   ]
  },
  {
   "cell_type": "code",
   "execution_count": null,
   "id": "259719aa-8bc4-43f9-a10a-fcdb7fd4124a",
   "metadata": {
    "jupyter": {
     "source_hidden": true
    },
    "tags": []
   },
   "outputs": [],
   "source": [
    "class Solution:\n",
    "    def findBuildings(self, heights: List[int]) -> List[int]:\n",
    "        # need to append left to create the output array\n",
    "        ans = collections.deque()\n",
    "        # use stack to keep track of tallest building\n",
    "        stack = collections.deque([0])\n",
    "        # traverse the heights from closest to the ocean to farthest\n",
    "        \n",
    "        for i in range(len(heights) - 1, -1, -1):\n",
    "            tallestHeight = stack[-1]\n",
    "            if heights[i] > tallestHeight:\n",
    "                stack.append(heights[i])\n",
    "                ans.appendleft(i)\n",
    "        \n",
    "        return ans"
   ]
  },
  {
   "cell_type": "markdown",
   "id": "f141d05e-7f41-433e-a3b2-ebbbc68e3166",
   "metadata": {},
   "source": [
    "> 1570. Dot Product of Two Sparse Vectors"
   ]
  },
  {
   "cell_type": "code",
   "execution_count": null,
   "id": "a3b211d5-5be9-4d85-bd52-53a688ffb0f1",
   "metadata": {
    "jupyter": {
     "source_hidden": true
    },
    "tags": []
   },
   "outputs": [],
   "source": [
    "class SparseVector:\n",
    "    def __init__(self, nums: List[int]):\n",
    "        self.hashmap = collections.defaultdict(int)\n",
    "        # store sparse matrix as a coordinate matrix\n",
    "        for i in range(len(nums)):\n",
    "            if nums[i] != 0:\n",
    "                self.hashmap[i] = nums[i]\n",
    "        \n",
    "\n",
    "    # Return the dotProduct of two sparse vectors\n",
    "    def dotProduct(self, vec: 'SparseVector') -> int:\n",
    "        sumVec = 0\n",
    "        for i in self.hashmap:\n",
    "            sumVec = sumVec + self.hashmap[i] * vec.hashmap[i]\n",
    "            \n",
    "        return sumVec\n",
    "\n",
    "# Your SparseVector object will be instantiated and called as such:\n",
    "# v1 = SparseVector(nums1)\n",
    "# v2 = SparseVector(nums2)\n",
    "# ans = v1.dotProduct(v2)"
   ]
  },
  {
   "cell_type": "markdown",
   "id": "c25d7c68-be2c-45de-b798-cba55ecb0bb3",
   "metadata": {},
   "source": [
    "> 560. Subarray Sum Equals K"
   ]
  },
  {
   "cell_type": "code",
   "execution_count": null,
   "id": "710fada6-e52b-48c8-b72d-99c6c152605e",
   "metadata": {
    "jupyter": {
     "source_hidden": true
    },
    "tags": []
   },
   "outputs": [],
   "source": [
    "class Solution:\n",
    "    def subarraySum(self, nums: List[int], k: int) -> int:\n",
    "        # brute force approach: hold one element and iterate through the rest to find \n",
    "        # if they sum up together to reach the target sum\n",
    "        \n",
    "        # return count of number of contingous arrays\n",
    "        counter = 0\n",
    "        # creating a hasmap to store prefixSums\n",
    "        prefixDict = collections.defaultdict(int)\n",
    "        # inputting 0 key with 1 count to account for an empty prefix at the start of the array\n",
    "        prefixDict[0] = 1\n",
    "        # sum variable to keep track of the prefix sums\n",
    "        currSum = 0\n",
    "        for i in range(len(nums)):\n",
    "            currSum += nums[i]\n",
    "            # want to find a prefix sum where the current sum - prefix sum = target\n",
    "            prefixSum = currSum - k \n",
    "            if prefixSum in prefixDict:\n",
    "                counter += prefixDict[prefixSum]\n",
    "            prefixDict[currSum] += 1\n",
    "        return counter      "
   ]
  },
  {
   "cell_type": "markdown",
   "id": "84ff28fd-21f2-43a8-8208-df9e2cd3d8fe",
   "metadata": {},
   "source": [
    "> 215. Kth Largest Element in an Array"
   ]
  },
  {
   "cell_type": "code",
   "execution_count": null,
   "id": "e1e575b7-9e80-495d-a760-50942fd5e989",
   "metadata": {
    "jupyter": {
     "source_hidden": true
    },
    "tags": []
   },
   "outputs": [],
   "source": [
    "class Solution:\n",
    "    def findKthLargest(self, nums: List[int], k: int) -> int:\n",
    "        # solution 1: sort (time = nlogn, space = c)\n",
    "        \"\"\"\n",
    "        nums.sort()\n",
    "        return nums[-k]\n",
    "        \"\"\"\n",
    "        \n",
    "        # solution 2: maxheap\n",
    "        \"\"\"\n",
    "        return heapq.nlargest(k, nums)[-1]\n",
    "        \"\"\"\n",
    "        \n",
    "        # solution 3: quick select\n",
    "        \"\"\"\n",
    "        self.nums = nums\n",
    "        # trick to make kth largest refer directly to the indice in a sorted list\n",
    "        self.k = len(nums) - k\n",
    "        return self.quickSelect(0, len(nums) - 1)\n",
    "    \n",
    "    def quickSelect(self, l, r):\n",
    "        pointer = l\n",
    "        for i in range(l, r):\n",
    "            if self.nums[i] <= self.nums[r]:\n",
    "                self.nums[i], self.nums[pointer] = self.nums[pointer], self.nums[i]\n",
    "                pointer += 1\n",
    "        self.nums[pointer], self.nums[r] = self.nums[r], self.nums[poinater]\n",
    "        \n",
    "        if pointer < self.k:\n",
    "            return self.quickSelect(pointer + 1, r)\n",
    "        elif pointer > self.k:\n",
    "            return self.quickSelect(l, pointer - 1)\n",
    "        else:\n",
    "            return self.nums[pointer]\n",
    "    \n",
    "    \"\"\"\n",
    "        # solution 4 quick select alternative solution\n",
    "        # we set k as equal to the length of the array - k because during the partitioning\n",
    "        # we will sort in ascending order (values lower than pivot go to left)\n",
    "        return self.quickSelect(nums, len(nums) - k, 0, len(nums) - 1)\n",
    "    \n",
    "    def quickSelect(self, nums, k, l, r):\n",
    "        # pivotIndex after partition\n",
    "        pos = self.partition(nums, l, r)\n",
    "        \n",
    "        if pos == k:\n",
    "            return nums[pos]\n",
    "        elif pos < k:\n",
    "            return self.quickSelect(nums, k, pos + 1, r)\n",
    "        else:\n",
    "            return self.quickSelect(nums, k, l, pos - 1)\n",
    "        \n",
    "    def partition(self, nums, l, r):\n",
    "        # select a random index and set it to the right so we can use a for loop from the left to the right (non inclusive)\n",
    "        pivotIndex = random.randint(l, r)\n",
    "        nums[pivotIndex], nums[r] = nums[r], nums[pivotIndex]\n",
    "        pivot = nums[r]\n",
    "        # set pointer = l, swap indices when the value is less than the pivot\n",
    "        pointer = l\n",
    "        for i in range(l, r):\n",
    "            if nums[i] < pivot:\n",
    "                nums[pointer], nums[i] = nums[i], nums[pointer]\n",
    "                pointer += 1\n",
    "        nums[pointer], nums[r] = nums[r], nums[pointer]\n",
    "        \n",
    "        return pointer\n",
    "   "
   ]
  },
  {
   "cell_type": "markdown",
   "id": "d854fd9c-179e-48d8-96de-dcd5eb05265c",
   "metadata": {},
   "source": [
    "> 347. Top K Frequent Elements"
   ]
  },
  {
   "cell_type": "code",
   "execution_count": null,
   "id": "508779a4-82bb-43c8-b4af-b171b78ae740",
   "metadata": {
    "jupyter": {
     "source_hidden": true
    },
    "tags": []
   },
   "outputs": [],
   "source": [
    "class Solution:\n",
    "    def topKFrequent(self, nums: List[int], k: int) -> List[int]:\n",
    "        # iterate through the array, save the counts to a dictionary\n",
    "        # iterate over dictionary and get top k values via min heap or quick select\n",
    "        \n",
    "        # heap using nlargets\n",
    "        \"\"\"\n",
    "        numsDict = collections.Counter(nums)       \n",
    "        return heapq.nlargest(k, numsDict.keys(), key = numsDict.get)\n",
    "        \"\"\"\n",
    "        \n",
    "        # quick select\n",
    "        self.freqCounter = collections.Counter(nums)\n",
    "        self.unique = [key for key in self.freqCounter]\n",
    "        lenArr = len(self.unique)\n",
    "        self.k = lenArr - k\n",
    "        \n",
    "        return self.quickSelect(0, len(self.unique) - 1)\n",
    "    \n",
    "    def quickSelect(self, l, r):\n",
    "        pivotIndex = self.partition(l, r)\n",
    "        \n",
    "        if pivotIndex < self.k:\n",
    "            return self.quickSelect(pivotIndex + 1, r)\n",
    "        elif pivotIndex > self.k:\n",
    "            return self.quickSelect(l, pivotIndex - 1)\n",
    "        else:\n",
    "            return self.unique[self.k:]\n",
    "            \n",
    "    \n",
    "    def partition(self, l, r):\n",
    "        pivot = random.randint(l, r)\n",
    "        self.unique[pivot], self.unique[r] = self.unique[r], self.unique[pivot]\n",
    "        pivotFrequency = self.freqCounter[self.unique[r]]\n",
    "        pointer = l\n",
    "        for i in range(l, r):\n",
    "            iterFrequency = self.freqCounter[self.unique[i]]\n",
    "            if iterFrequency < pivotFrequency:\n",
    "                self.unique[pointer], self.unique[i] = self.unique[i], self.unique[pointer]\n",
    "                pointer += 1\n",
    "        self.unique[pointer], self.unique[r] = self.unique[r], self.unique[pointer]\n",
    "        return pointer\n",
    "        "
   ]
  },
  {
   "cell_type": "markdown",
   "id": "545d47f1-3e1e-4597-b318-033e5e4e3bf1",
   "metadata": {},
   "source": [
    "___\n",
    "# Sliding Window\n",
    "___"
   ]
  },
  {
   "cell_type": "markdown",
   "id": "7f8142ef-533e-41fc-b911-9dcaf59c8c05",
   "metadata": {},
   "source": [
    "> 3. Longest Substring Without Repeating Characters"
   ]
  },
  {
   "cell_type": "code",
   "execution_count": null,
   "id": "0e58aa81-c409-4a49-b46a-d8a132c8e014",
   "metadata": {
    "jupyter": {
     "source_hidden": true
    },
    "tags": []
   },
   "outputs": [],
   "source": [
    "# o(2n) approach (each element can be visited at most twice twice)\n",
    "class Solution:\n",
    "    def lengthOfLongestSubstring(self, s: str) -> int:\n",
    "        seen = set()\n",
    "        # sliding window pointers\n",
    "        l, r = 0, 0\n",
    "        # max length holder\n",
    "        maxLength = 0\n",
    "        while r < len(s):\n",
    "            if s[r] not in seen:\n",
    "                seen.add(s[r])\n",
    "                r += 1\n",
    "            else:\n",
    "                seen.remove(s[l])\n",
    "                l += 1\n",
    "            maxLength = max(maxLength, r - l)\n",
    "        return maxLength\n",
    "                "
   ]
  },
  {
   "cell_type": "markdown",
   "id": "38ebe035-705a-454b-bb1d-f4aeeb9e17ac",
   "metadata": {},
   "source": [
    "___\n",
    "# Stack\n",
    "___"
   ]
  },
  {
   "cell_type": "markdown",
   "id": "2cb39772-624e-4dc4-a1d8-42f02f5ae919",
   "metadata": {},
   "source": [
    "> 1249. Minimum Remove to Make Valid Parentheses"
   ]
  },
  {
   "cell_type": "code",
   "execution_count": null,
   "id": "ae06cca3-0077-429f-b9b3-ec881aa05fba",
   "metadata": {
    "jupyter": {
     "source_hidden": true
    },
    "tags": []
   },
   "outputs": [],
   "source": [
    "class Solution:\n",
    "    def minRemoveToMakeValid(self, s: str) -> str:\n",
    "        # use stack data structure\n",
    "        # cant have a ) if there was no previous (\n",
    "        # means that if we call ( a +1, \n",
    "        # the sum as we iterate through the string can never go negative\n",
    "        \n",
    "        # we can make this faster if we use a dictionary instead of a set\n",
    "        removeIndices = set()\n",
    "        stack = collections.deque()\n",
    "        for i in range(len(s)):\n",
    "            if s[i] == \"(\":\n",
    "                stack.append(i)\n",
    "            if s[i] == \")\":\n",
    "                if len(stack) == 0:\n",
    "                    removeIndices.add(i)\n",
    "                else:\n",
    "                    stack.pop()\n",
    "        \n",
    "        removeIndices = removeIndices.union(set(stack))\n",
    "        returnStringList = []\n",
    "        for i in range(len(s)):\n",
    "            if i in removeIndices:\n",
    "                continue\n",
    "            returnStringList.append(s[i])\n",
    "        \n",
    "        return \"\".join(returnStringList)\n",
    "                "
   ]
  },
  {
   "cell_type": "markdown",
   "id": "32d5b426-1a2d-45a1-b0a4-0e68862e2486",
   "metadata": {},
   "source": [
    "> 71. Simplify Path"
   ]
  },
  {
   "cell_type": "code",
   "execution_count": null,
   "id": "9e4cf54d-3bbc-42d5-8e8d-52989988e1ff",
   "metadata": {
    "jupyter": {
     "source_hidden": true
    },
    "tags": []
   },
   "outputs": [],
   "source": [
    "class Solution:\n",
    "    def simplifyPath(self, path: str) -> str:\n",
    "        # create a stack since the .. command means we may need to exclude strings from the output\n",
    "        stack = collections.deque()\n",
    "        # use the split command to separate out the strings\n",
    "        for s in path.split('/'):\n",
    "            # if the string is .., we will need to remove the most recent element from the eventual output\n",
    "            if s == '..':\n",
    "                # we need to check if the stack is there before popping, cant pop from an empty deque\n",
    "                if stack:\n",
    "                    stack.pop()\n",
    "            # of the string is . or nothing, that means stay at the current directory (dont add anything to stack)\n",
    "            elif s == '.' or not s:\n",
    "                continue\n",
    "            # append the string to eventually output as the canonical solution\n",
    "            else:\n",
    "                stack.append(s)\n",
    "        # the .join method can be used on an iterator (stack)        \n",
    "        return '/' + '/'.join(stack)"
   ]
  },
  {
   "cell_type": "markdown",
   "id": "00cc7b42-aaf5-4369-a1e6-3bb735f6a6bf",
   "metadata": {},
   "source": [
    "___\n",
    "# Binary Search\n",
    "___"
   ]
  },
  {
   "cell_type": "markdown",
   "id": "f3202779-4c99-43a6-b9b0-c1389b505de3",
   "metadata": {},
   "source": [
    "> 528. Random Pick with Weight"
   ]
  },
  {
   "cell_type": "code",
   "execution_count": null,
   "id": "78c04388-ae79-488e-8bda-e81ea51219a6",
   "metadata": {
    "jupyter": {
     "source_hidden": true
    },
    "tags": []
   },
   "outputs": [],
   "source": [
    "class Solution:\n",
    "\n",
    "    def __init__(self, w: List[int]):\n",
    "        self.prefixSums = []\n",
    "        preSum = 0\n",
    "        for weight in w:\n",
    "            preSum += weight\n",
    "            self.prefixSums.append(preSum)\n",
    "        # gets the total sum of the prefixSums\n",
    "        self.totalSum = preSum\n",
    "\n",
    "    def pickIndex(self) -> int:\n",
    "        l = 0\n",
    "        r = len(self.prefixSums)\n",
    "        chosen = random.random() * self.totalSum\n",
    "        while l <= r:\n",
    "            m = (l + r) // 2 \n",
    "            if chosen < self.prefixSums[m]:\n",
    "                r = m - 1\n",
    "            else:\n",
    "                l = m + 1\n",
    "        return l\n",
    "\n",
    "# Your Solution object will be instantiated and called as such:\n",
    "# obj = Solution(w)\n",
    "# param_1 = obj.pickIndex()"
   ]
  },
  {
   "cell_type": "code",
   "execution_count": null,
   "id": "ae028df2-fadd-4e6f-a4cc-7eb475cfec19",
   "metadata": {},
   "outputs": [],
   "source": []
  }
 ],
 "metadata": {
  "kernelspec": {
   "display_name": "Python 3",
   "language": "python",
   "name": "python3"
  },
  "language_info": {
   "codemirror_mode": {
    "name": "ipython",
    "version": 3
   },
   "file_extension": ".py",
   "mimetype": "text/x-python",
   "name": "python",
   "nbconvert_exporter": "python",
   "pygments_lexer": "ipython3",
   "version": "3.9.2"
  }
 },
 "nbformat": 4,
 "nbformat_minor": 5
}
