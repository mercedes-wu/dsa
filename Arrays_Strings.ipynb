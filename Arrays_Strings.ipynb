{
 "cells": [
  {
   "cell_type": "markdown",
   "id": "d71a285a-99c8-47f1-a934-4e12d4f08b71",
   "metadata": {},
   "source": [
    "> 953. Verifying an Alien Dictionary"
   ]
  },
  {
   "cell_type": "code",
   "execution_count": null,
   "id": "b47bda69-50a3-4493-bb8d-4f57e7882bb2",
   "metadata": {
    "jupyter": {
     "source_hidden": true
    },
    "tags": []
   },
   "outputs": [],
   "source": [
    "class Solution:\n",
    "    def isAlienSorted(self, words: List[str], order: str) -> bool:\n",
    "        numWords = len(words)\n",
    "        self.alienDict = {}\n",
    "        for i in range(len(order)):\n",
    "            self.alienDict[order[i]] = i\n",
    "        \n",
    "        for i in range(numWords-1):\n",
    "            print(words[i], words[i+1])\n",
    "            comparisonBool = self.compareStrings(words[i], words[i+1])\n",
    "            if comparisonBool:\n",
    "                continue\n",
    "            else:\n",
    "                return False\n",
    "        return True\n",
    "    \n",
    "    def compareStrings(self, string1, string2):\n",
    "        minLength = min(len(string1), len(string2))\n",
    "        print(minLength)\n",
    "        for i in range(minLength):\n",
    "            if self.alienDict[string1[i]] < self.alienDict[string2[i]]:\n",
    "                return True\n",
    "            elif self.alienDict[string1[i]] == self.alienDict[string2[i]]:\n",
    "                continue\n",
    "            else:\n",
    "                return False\n",
    "        if len(string1) > len(string2):\n",
    "            return False\n",
    "        else:\n",
    "            return True"
   ]
  },
  {
   "cell_type": "markdown",
   "id": "ebd9a90d-e87c-4bbb-b126-b188afc081a2",
   "metadata": {},
   "source": [
    "> 1. Two Sum"
   ]
  },
  {
   "cell_type": "code",
   "execution_count": null,
   "id": "ac09fb86-dec8-424f-9fb5-0c0a0309ee2c",
   "metadata": {
    "jupyter": {
     "source_hidden": true
    },
    "tags": []
   },
   "outputs": [],
   "source": [
    "class Solution:\n",
    "    def twoSum(self, nums: List[int], target: int) -> List[int]:\n",
    "        # exactly one solution\n",
    "        # numbers can be positive or negative\n",
    "        # target can be positive or negative\n",
    "        # length of nums must be larger than 1\n",
    "        \n",
    "        # we can create a hashmap to hold the values of each element (as the key)\n",
    "        # and index (as the value)\n",
    "        # we can iterate through the array, and if the target - the array[i] value \n",
    "        # is in the hashmap, we have found the pair\n",
    "        \n",
    "        # time complexity o(n), space complexity o(n)\n",
    "        \n",
    "        # instantiate hashmap\n",
    "        hashmap = {}\n",
    "        \n",
    "        # loop through numbers in array\n",
    "        for i in range(len(nums)):\n",
    "            # calculate value and the target - value\n",
    "            val = nums[i]\n",
    "            compliment = target - val\n",
    "            # if a pair is found, return indices\n",
    "            if compliment in hashmap:\n",
    "                return [hashmap[compliment], i]\n",
    "            hashmap[val] = i\n",
    "            \n",
    "        # if no solution is found, return [-1,-1]\n",
    "        return [-1, -1]\n",
    "        "
   ]
  },
  {
   "cell_type": "markdown",
   "id": "130fedfe-618d-4b4b-83df-80ceff708d40",
   "metadata": {},
   "source": [
    "> 167. Two Sum II - Input Array Is Sorted"
   ]
  },
  {
   "cell_type": "code",
   "execution_count": null,
   "id": "0e7e571d-5a15-4ce7-af84-0535d97910c2",
   "metadata": {
    "jupyter": {
     "source_hidden": true
    },
    "tags": []
   },
   "outputs": [],
   "source": [
    "class Solution:\n",
    "    def twoSum(self, numbers: List[int], target: int) -> List[int]:\n",
    "        startPointer = 0\n",
    "        endPointer = len(numbers) - 1\n",
    "        \n",
    "        while startPointer < endPointer:\n",
    "            currSum = numbers[startPointer] + numbers[endPointer]\n",
    "            if currSum == target:\n",
    "                return [startPointer + 1, endPointer + 1]\n",
    "            if currSum > target:\n",
    "                endPointer -= 1\n",
    "            else:\n",
    "                startPointer += 1\n",
    "        \n",
    "        return [-1, -1]"
   ]
  },
  {
   "cell_type": "markdown",
   "id": "4255502e-b0d4-45b3-aa16-d8a317c3a70f",
   "metadata": {},
   "source": [
    "> 15. 3Sum (without sorting input array)"
   ]
  },
  {
   "cell_type": "code",
   "execution_count": null,
   "id": "30efa875-69be-4b5c-b12a-f393c300fe45",
   "metadata": {
    "jupyter": {
     "source_hidden": true
    },
    "tags": []
   },
   "outputs": [],
   "source": [
    "class Solution:\n",
    "    def threeSum(self, nums: List[int]) -> List[List[int]]:\n",
    "        # target is 0\n",
    "        # indices can not be the same, but numbers can be repeated\n",
    "        # if we hold one number (held number)\n",
    "        # we can pretend the rest of the array is a two sum problem\n",
    "        # the target will be -(held number)\n",
    "        \n",
    "        # create return array\n",
    "        indices = []\n",
    "        \n",
    "        # create another hashmap to contain indices that we already looked at\n",
    "        duplicates = set()\n",
    "        \n",
    "        # loop through nums, set an element equal to the hold number\n",
    "        for i in range(len(nums)):\n",
    "            target = -nums[i]\n",
    "            # instantiate a hashmap for the two sum sub problem in the for loop below\n",
    "            tempDict = {}\n",
    "            for j in range(i+1, len(nums)):\n",
    "                compliment = target - nums[j]\n",
    "                if compliment in tempDict:\n",
    "                    # sorting to not add duplicate solutions to output\n",
    "                    solution = sorted([nums[i], nums[j], compliment])\n",
    "                    # convert to tuple to add to a set and for checking\n",
    "                    tupleSolutions = tuple(solution)\n",
    "                    # add the sorted values to the output if the values have not already appeared\n",
    "                    if tupleSolutions not in duplicates:\n",
    "                        indices.append(tupleSolutions)\n",
    "                    # add the sorted values in a tuple to the set\n",
    "                    duplicates.add(tupleSolutions)\n",
    "                # add the number at the jth position to the temporay dictionary     \n",
    "                tempDict[nums[j]] = j                       \n",
    "                \n",
    "        # return array of indice triplets\n",
    "        return indices"
   ]
  },
  {
   "cell_type": "markdown",
   "id": "b2e9dde9-d60c-4a45-ae1c-2c501973553c",
   "metadata": {},
   "source": [
    "> 15. 3Sum (sorting input array)"
   ]
  },
  {
   "cell_type": "code",
   "execution_count": null,
   "id": "913c01c0-dac6-4c83-a116-d58ef86d1156",
   "metadata": {
    "jupyter": {
     "source_hidden": true
    },
    "tags": []
   },
   "outputs": [],
   "source": [
    "class Solution:\n",
    "    def threeSum(self, nums: List[int]) -> List[List[int]]:\n",
    "        # if we are allowed to sort, we can use this to help filter out duplicates\n",
    "        nums.sort()\n",
    "        self.vals = []\n",
    "        \n",
    "        # create a hashmap for seen combinations\n",
    "        self.seen = set()\n",
    "        \n",
    "        prev = None\n",
    "        for i in range(len(nums)):\n",
    "            if nums[i] == prev:\n",
    "                continue\n",
    "            \n",
    "            self.twoSum(nums[i+1:], -nums[i])\n",
    "            \n",
    "            prev = nums[i]\n",
    "        \n",
    "        return self.vals\n",
    "        \n",
    "    def twoSum(self, nums, target):\n",
    "        if not nums:\n",
    "            return\n",
    "        s = 0\n",
    "        e = len(nums) - 1\n",
    "        \n",
    "        while s < e:\n",
    "            currSum = nums[s] + nums[e]\n",
    "            if currSum == target:\n",
    "                solution = sorted([nums[s], nums[e], -target])\n",
    "                tupSolution = tuple(solution)\n",
    "                if tupSolution not in self.seen:\n",
    "                    self.vals.append(solution)\n",
    "                self.seen.add(tuple(solution))\n",
    "                s += 1\n",
    "                e -= 1\n",
    "            elif currSum < target:\n",
    "                s += 1\n",
    "            else:\n",
    "                e -= 1"
   ]
  },
  {
   "cell_type": "markdown",
   "id": "8f36f757-0d2e-44e1-9a94-615abcd965d9",
   "metadata": {},
   "source": [
    "> 125. Valid Palindrome"
   ]
  },
  {
   "cell_type": "code",
   "execution_count": null,
   "id": "05e15cb1-4546-49f3-9360-e0de35db9249",
   "metadata": {
    "jupyter": {
     "source_hidden": true
    },
    "tags": []
   },
   "outputs": [],
   "source": [
    "class Solution:\n",
    "    def isPalindrome(self, s: str) -> bool:\n",
    "        s = s.lower()\n",
    "        # a one character string is technically a palindrome\n",
    "        # initializing pointers\n",
    "        l = 0\n",
    "        r = len(s) - 1\n",
    "        while l <= r:\n",
    "            if not s[l].isalnum():\n",
    "                l += 1\n",
    "                continue\n",
    "            if not s[r].isalnum():\n",
    "                r -= 1\n",
    "                continue\n",
    "            # print(s[l], s[r])\n",
    "            \n",
    "            if s[l] == s[r]:\n",
    "                l += 1\n",
    "                r -= 1\n",
    "            else:\n",
    "                return False\n",
    "            \n",
    "        return True"
   ]
  },
  {
   "cell_type": "markdown",
   "id": "843c130f-e6d7-4bb4-abd6-e42efea825eb",
   "metadata": {},
   "source": [
    "> 680. Valid Palindrome II"
   ]
  },
  {
   "cell_type": "code",
   "execution_count": null,
   "id": "81b57dee-735d-4e84-a2dd-660935bd603b",
   "metadata": {
    "jupyter": {
     "source_hidden": true
    },
    "tags": []
   },
   "outputs": [],
   "source": [
    "class Solution:\n",
    "    def validPalindrome(self, s: str) -> bool:\n",
    "        # initializing pointers\n",
    "        l = 0\n",
    "        r = len(s) - 1\n",
    "        return self.checkPalindrome(s, l, r, False)\n",
    "        \n",
    "        \n",
    "    def checkPalindrome(self,s, l, r, charDeleted):\n",
    "        while l <= r:\n",
    "            if s[l] == s[r]:\n",
    "                l += 1\n",
    "                r -= 1\n",
    "            else:\n",
    "                if charDeleted:\n",
    "                    return False\n",
    "                else:\n",
    "                    return self.checkPalindrome(s, l, r-1, True) or self.checkPalindrome(s, l+1, r, True)\n",
    "        return True\n",
    "            "
   ]
  },
  {
   "cell_type": "markdown",
   "id": "a02760a0-3ff3-4fcc-b8c4-6aa612be668a",
   "metadata": {},
   "source": [
    "> 1762. Buildings With an Ocean View"
   ]
  },
  {
   "cell_type": "code",
   "execution_count": null,
   "id": "259719aa-8bc4-43f9-a10a-fcdb7fd4124a",
   "metadata": {
    "jupyter": {
     "source_hidden": true
    },
    "tags": []
   },
   "outputs": [],
   "source": [
    "class Solution:\n",
    "    def findBuildings(self, heights: List[int]) -> List[int]:\n",
    "        # need to append left to create the output array\n",
    "        ans = collections.deque()\n",
    "        # use stack to keep track of tallest building\n",
    "        stack = collections.deque([0])\n",
    "        # traverse the heights from closest to the ocean to farthest\n",
    "        \n",
    "        for i in range(len(heights) - 1, -1, -1):\n",
    "            tallestHeight = stack[-1]\n",
    "            if heights[i] > tallestHeight:\n",
    "                stack.append(heights[i])\n",
    "                ans.appendleft(i)\n",
    "        \n",
    "        return ans"
   ]
  },
  {
   "cell_type": "markdown",
   "id": "f141d05e-7f41-433e-a3b2-ebbbc68e3166",
   "metadata": {},
   "source": [
    "> 1570. Dot Product of Two Sparse Vectors"
   ]
  },
  {
   "cell_type": "code",
   "execution_count": null,
   "id": "a3b211d5-5be9-4d85-bd52-53a688ffb0f1",
   "metadata": {
    "jupyter": {
     "source_hidden": true
    },
    "tags": []
   },
   "outputs": [],
   "source": [
    "class SparseVector:\n",
    "    def __init__(self, nums: List[int]):\n",
    "        self.hashmap = collections.defaultdict(int)\n",
    "        # store sparse matrix as a coordinate matrix\n",
    "        for i in range(len(nums)):\n",
    "            if nums[i] != 0:\n",
    "                self.hashmap[i] = nums[i]\n",
    "        \n",
    "\n",
    "    # Return the dotProduct of two sparse vectors\n",
    "    def dotProduct(self, vec: 'SparseVector') -> int:\n",
    "        sumVec = 0\n",
    "        for i in self.hashmap:\n",
    "            sumVec = sumVec + self.hashmap[i] * vec.hashmap[i]\n",
    "            \n",
    "        return sumVec\n",
    "\n",
    "# Your SparseVector object will be instantiated and called as such:\n",
    "# v1 = SparseVector(nums1)\n",
    "# v2 = SparseVector(nums2)\n",
    "# ans = v1.dotProduct(v2)"
   ]
  },
  {
   "cell_type": "code",
   "execution_count": null,
   "id": "e2acc567-1846-4e54-aeb6-583a57e0836f",
   "metadata": {},
   "outputs": [],
   "source": [
    "> 560. Subarray Sum Equals K"
   ]
  },
  {
   "cell_type": "markdown",
   "id": "545d47f1-3e1e-4597-b318-033e5e4e3bf1",
   "metadata": {},
   "source": [
    "___\n",
    "# Sliding Window\n",
    "___"
   ]
  },
  {
   "cell_type": "markdown",
   "id": "7f8142ef-533e-41fc-b911-9dcaf59c8c05",
   "metadata": {},
   "source": [
    "> 3. Longest Substring Without Repeating Characters"
   ]
  },
  {
   "cell_type": "code",
   "execution_count": null,
   "id": "0e58aa81-c409-4a49-b46a-d8a132c8e014",
   "metadata": {},
   "outputs": [],
   "source": [
    "# o(2n) approach (each element can be visited at most twice twice)"
   ]
  },
  {
   "cell_type": "code",
   "execution_count": null,
   "id": "710fada6-e52b-48c8-b72d-99c6c152605e",
   "metadata": {
    "jupyter": {
     "source_hidden": true
    },
    "tags": []
   },
   "outputs": [],
   "source": [
    "class Solution:\n",
    "    def subarraySum(self, nums: List[int], k: int) -> int:\n",
    "        # brute force approach: hold one element and iterate through the rest to find \n",
    "        # if they sum up together to reach the target sum\n",
    "        \n",
    "        # return count of number of contingous arrays\n",
    "        counter = 0\n",
    "        # creating a hasmap to store prefixSums\n",
    "        prefixDict = collections.defaultdict(int)\n",
    "        # inputting 0 key with 1 count to account for an empty prefix at the start of the array\n",
    "        prefixDict[0] = 1\n",
    "        # sum variable to keep track of the prefix sums\n",
    "        currSum = 0\n",
    "        for i in range(len(nums)):\n",
    "            currSum += nums[i]\n",
    "            # want to find a prefix sum where the current sum - prefix sum = target\n",
    "            prefixSum = currSum - k \n",
    "            if prefixSum in prefixDict:\n",
    "                counter += prefixDict[prefixSum]\n",
    "            prefixDict[currSum] += 1\n",
    "        return counter      "
   ]
  },
  {
   "cell_type": "markdown",
   "id": "38ebe035-705a-454b-bb1d-f4aeeb9e17ac",
   "metadata": {},
   "source": [
    "___\n",
    "# Stack\n",
    "___"
   ]
  },
  {
   "cell_type": "markdown",
   "id": "2cb39772-624e-4dc4-a1d8-42f02f5ae919",
   "metadata": {},
   "source": [
    "> 1249. Minimum Remove to Make Valid Parentheses"
   ]
  },
  {
   "cell_type": "code",
   "execution_count": null,
   "id": "ae06cca3-0077-429f-b9b3-ec881aa05fba",
   "metadata": {
    "jupyter": {
     "source_hidden": true
    },
    "tags": []
   },
   "outputs": [],
   "source": [
    "class Solution:\n",
    "    def minRemoveToMakeValid(self, s: str) -> str:\n",
    "        # use stack data structure\n",
    "        # cant have a ) if there was no previous (\n",
    "        # means that if we call ( a +1, \n",
    "        # the sum as we iterate through the string can never go negative\n",
    "        \n",
    "        # we can make this faster if we use a dictionary instead of a set\n",
    "        removeIndices = set()\n",
    "        stack = collections.deque()\n",
    "        for i in range(len(s)):\n",
    "            if s[i] == \"(\":\n",
    "                stack.append(i)\n",
    "            if s[i] == \")\":\n",
    "                if len(stack) == 0:\n",
    "                    removeIndices.add(i)\n",
    "                else:\n",
    "                    stack.pop()\n",
    "        \n",
    "        removeIndices = removeIndices.union(set(stack))\n",
    "        returnStringList = []\n",
    "        for i in range(len(s)):\n",
    "            if i in removeIndices:\n",
    "                continue\n",
    "            returnStringList.append(s[i])\n",
    "        \n",
    "        return \"\".join(returnStringList)\n",
    "                "
   ]
  }
 ],
 "metadata": {
  "kernelspec": {
   "display_name": "Python 3",
   "language": "python",
   "name": "python3"
  },
  "language_info": {
   "codemirror_mode": {
    "name": "ipython",
    "version": 3
   },
   "file_extension": ".py",
   "mimetype": "text/x-python",
   "name": "python",
   "nbconvert_exporter": "python",
   "pygments_lexer": "ipython3",
   "version": "3.9.2"
  }
 },
 "nbformat": 4,
 "nbformat_minor": 5
}
