{
 "cells": [
  {
   "cell_type": "markdown",
   "id": "43fbc453-faf4-4a36-8ac8-6c340359fa66",
   "metadata": {},
   "source": [
    "> 252. Meeting Rooms"
   ]
  },
  {
   "cell_type": "code",
   "execution_count": null,
   "id": "0474151a-2b25-4b7c-8c7d-154877d09f26",
   "metadata": {
    "jupyter": {
     "source_hidden": true
    },
    "tags": []
   },
   "outputs": [],
   "source": [
    "class Solution:\n",
    "    def canAttendMeetings(self, intervals: List[List[int]]) -> bool:\n",
    "        if len(intervals) == 0:\n",
    "            return True\n",
    "        # make a list of start times and end times\n",
    "        # and see if a start time ends before an end time\n",
    "        startTimes = sorted([i[0] for i in intervals])\n",
    "        endTimes = sorted([i[1] for i in intervals])\n",
    "        \n",
    "        start = startTimes[0]\n",
    "        end = endTimes[0]\n",
    "        for i in range(1,len(intervals)):\n",
    "            if startTimes[i] < end:\n",
    "                return False\n",
    "            start = startTimes[i]\n",
    "            end = endTimes[i]\n",
    "        \n",
    "        return True\n"
   ]
  },
  {
   "cell_type": "markdown",
   "id": "a319abcc-84e9-41f5-a606-0799e016a685",
   "metadata": {},
   "source": [
    "> 253. Meeting Rooms II"
   ]
  },
  {
   "cell_type": "code",
   "execution_count": null,
   "id": "1e7ffa29-974f-4338-93a5-d38cbbdb0643",
   "metadata": {
    "jupyter": {
     "source_hidden": true
    },
    "tags": []
   },
   "outputs": [],
   "source": [
    "class Solution:\n",
    "    def minMeetingRooms(self, intervals: List[List[int]]) -> int:\n",
    "        startTimes = sorted([i[0] for i in intervals])\n",
    "        endTimes = sorted([i[1] for i in intervals])\n",
    "        \n",
    "        # start and end pointers\n",
    "        s, e = 0, 0\n",
    "        \n",
    "        # counter for meeting rooms\n",
    "        roomCounter = 0\n",
    "        \n",
    "        # max of roomCounter --> what ends up being returned\n",
    "        ans = 0\n",
    "        \n",
    "        while s < len(intervals):\n",
    "            # we can  use s and e because its a clever way to account for the first meeting room since start[s] < start[e]\n",
    "            # the s will be keeping track after this edge case\n",
    "            if startTimes[s] < endTimes[e]:\n",
    "                s += 1\n",
    "                roomCounter += 1\n",
    "                ans = max(roomCounter, ans)\n",
    "            else:\n",
    "                e += 1\n",
    "                roomCounter -= 1\n",
    "            \n",
    "        return ans\n",
    "\n",
    "            "
   ]
  },
  {
   "cell_type": "markdown",
   "id": "2472e881-b639-4730-9cd1-b0d6ec7701e9",
   "metadata": {},
   "source": [
    "> 56. Merge Intervals"
   ]
  },
  {
   "cell_type": "code",
   "execution_count": null,
   "id": "ea8e87e8-f6e0-4113-8657-5f350ab67bb5",
   "metadata": {
    "jupyter": {
     "source_hidden": true
    },
    "tags": []
   },
   "outputs": [],
   "source": [
    "class Solution:\n",
    "    def merge(self, intervals: List[List[int]]) -> List[List[int]]:\n",
    "        # dont need to take into account of len(intervals) = 0 based on constraints\n",
    "        startTimes = sorted([i[0] for i in intervals])\n",
    "        endTimes = sorted([i[1] for i in intervals])\n",
    "        \n",
    "        start = startTimes[0]\n",
    "        end = endTimes[0]\n",
    "        \n",
    "        output = []\n",
    "        # iterate through the intervals to find where a merge should occur\n",
    "        # condition for when the merge should occur if the interval start time is lower or \n",
    "        # equal than the previous interval end time\n",
    "        for i in range(1, len(intervals)):\n",
    "            if startTimes[i] <= end:\n",
    "                end = endTimes[i]\n",
    "            else:\n",
    "                output.append([start, end])\n",
    "                start = startTimes[i]\n",
    "                end = endTimes[i]\n",
    "        \n",
    "        # last items in for loop do not get added to the outputs\n",
    "        output.append([start, end])\n",
    "        \n",
    "        return output"
   ]
  }
 ],
 "metadata": {
  "kernelspec": {
   "display_name": "Python 3",
   "language": "python",
   "name": "python3"
  },
  "language_info": {
   "codemirror_mode": {
    "name": "ipython",
    "version": 3
   },
   "file_extension": ".py",
   "mimetype": "text/x-python",
   "name": "python",
   "nbconvert_exporter": "python",
   "pygments_lexer": "ipython3",
   "version": "3.9.2"
  }
 },
 "nbformat": 4,
 "nbformat_minor": 5
}
